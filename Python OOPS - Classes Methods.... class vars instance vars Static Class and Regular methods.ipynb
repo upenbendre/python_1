{
 "cells": [
  {
   "cell_type": "code",
   "execution_count": 14,
   "metadata": {},
   "outputs": [
    {
     "name": "stdout",
     "output_type": "stream",
     "text": [
      "<__main__.blankclass object at 0x000000000785D278>\n",
      "14345 uoiueue\n",
      "Hello\n",
      "[3, 5, 6]\n",
      "14345\n"
     ]
    }
   ],
   "source": [
    "#Creating a blank class. Creating objects of that class. Creating more references to the same object.\n",
    "#b1,b2,b3 are references to same object\n",
    "\n",
    "class blankclass:\n",
    "      pass\n",
    "      \n",
    "b1 = blankclass()\n",
    "b1.attr1 = '14345'\n",
    "b1.attr2 = 'uoiueue'\n",
    "\n",
    "print(b1)\n",
    "\n",
    "b2 = blankclass()\n",
    "b2 = b1 #Assigned one more reference to the same instance. Did not create new class instance\n",
    "print(b2.attr1 , b2.attr2)\n",
    "b2.attr3 = [3,5,6]\n",
    "print('Hello')\n",
    "print(b1.attr3)\n",
    "b3 = b1\n",
    "print(b3.attr1) #Assigned one more reference to the same instance. Did not create new class instance"
   ]
  },
  {
   "cell_type": "code",
   "execution_count": 16,
   "metadata": {},
   "outputs": [],
   "source": [
    "#Two different instances of a blank class. Defining different sets of attributes against those instances\n",
    "class blankclass2:\n",
    "    pass\n",
    "\n",
    "b1=blankclass2()\n",
    "b2=blankclass2()\n",
    "\n",
    "b1.attr1 = \"aghghg\"\n",
    "b1.attr2 = 12345\n",
    "b2.attr3 = \"xvxvxv\"\n",
    "b2.attr4 = 7890\n",
    "\n",
    "#print(b1.attr3) #b1 object doesnt have attr3 as an attribute\n",
    "#print(b2.attr1) #b2 object doesnt have attr1 as an attribute\n",
    "#The class definition being blank. Individual instances could extend additional attributes on it i.e. attr1,2,3,4\n",
    "\n"
   ]
  },
  {
   "cell_type": "code",
   "execution_count": 42,
   "metadata": {},
   "outputs": [
    {
     "name": "stdout",
     "output_type": "stream",
     "text": [
      "upen bendre 10 9.0\n",
      "{'__module__': '__main__', '__init__': <function EmployeeClass.__init__ at 0x00000000078D4488>, 'salnorm': <function EmployeeClass.salnorm at 0x00000000078D4378>, '__dict__': <attribute '__dict__' of 'EmployeeClass' objects>, '__weakref__': <attribute '__weakref__' of 'EmployeeClass' objects>, '__doc__': None}\n",
      "{'efname': 'upen', 'elname': 'bendre', 'esalary': 10}\n"
     ]
    }
   ],
   "source": [
    "class EmployeeClass:\n",
    "\n",
    "    # __init__ method, when defined acts as Constructor\n",
    "    # First argument to __init__ is the object itself. Hence mostly named self. Rest are constructor arguments\n",
    "    #__init__ does exist otherwise. Here we just implemented it\n",
    "    def __init__ (self, fname, lname, salary):\n",
    "        self.efname = fname\n",
    "        self.elname = lname\n",
    "        self.esalary = salary\n",
    "        #self.ensalary = salnorm(salary) #The salnorm bound method of the object will not be accessible inside constructor\n",
    "\n",
    "    #implemented a method of the class. It must accept self instance as an argument on whose attributes it can act\n",
    "    def salnorm(self):\n",
    "       return self.esalary*0.9\n",
    "\n",
    "        \n",
    "        \n",
    "ec1 = EmployeeClass('upen', 'bendre', 10)\n",
    "print(ec1.efname, ec1.elname, ec1.esalary, ec1.salnorm())\n",
    "\n",
    "#Bound methods can also be called on the Class name variable passing the object instance name to it (first case)\n",
    "#And by calling the method on the object directly\n",
    "EmployeeClass.salnorm(ec1) == ec1.salnorm()\n",
    "\n",
    "print(EmployeeClass.__dict__) #(The __dict__ method on a class returns the full namespace of the class)\n",
    "\n",
    "print(ec1.__dict__) #(The __dict__ method on a object returns the full namespace of the object)"
   ]
  },
  {
   "cell_type": "code",
   "execution_count": null,
   "metadata": {},
   "outputs": [],
   "source": [
    "#Class variables of static variables\n",
    "\n",
    "class EmpClass:\n",
    "    #raise1 is a Class variable. Its class attribute. The value is held by the class. \n",
    "    # An instance of class will not have it directly. It will come through the class\n",
    "    # it can be addressed directly as <classname>.<classvar> or as <objectname>.<classvar>\n",
    "    raise1 = 1.5\n",
    "    \n",
    "    def __init__ (self, fname, lname, salary):\n",
    "        self.efname = fname\n",
    "        self.elname = lname\n",
    "        self.esalary = salary\n",
    "\n",
    "    def salraise(self):\n",
    "       #return self.esalary*raise1   #Cannot refer raise1 directly\n",
    "        print(str(self.raise1)+ \"raised\")   #can refer class var as attribute of self\n",
    "        return self.esalary*EmpClass.raise1 #Can refer class var through class name\n",
    "\n",
    "ec2 = EmpClass('upen', 'bendre', 10)\n",
    "print(ec2.__dict__)   #shows attributes specific to instance. No class vars, no methods\n",
    "print(ec2.salraise())\n",
    "print(EmpClass.raise1)\n",
    "\n",
    "ec3 = EmpClass('chandan', 'deshpande', 20)\n",
    "print(ec3.__dict__)   #shows attributes specific to instance. No class vars, no methods\n",
    "print(ec3.salraise())\n",
    "print(EmpClass.raise1)\n",
    "\n",
    "#You can modify the Class var. \n",
    "#If modified through class, it changes all instances. If applied on instance, it only changes for the instance\n",
    "EmpClass.raise1 = 1.1 \n",
    "print(ec2.raise1, ec3.raise1, EmpClass.raise1)\n",
    "print(ec2.__dict__, ec3.__dict__)\n",
    "\n",
    "ec3.raise1 = 1.3   \n",
    "print(ec2.raise1, ec3.raise1, EmpClass.raise1)\n",
    "#see result below. When one instance was given a different value, the class var created in namespace for ec3.\n",
    "# until then it was inheriting the class var value from the class definition. \n",
    "# IS THIS CALLED DYNAMIC BINDING?\n",
    "print(ec2.__dict__, ec3.__dict__)"
   ]
  },
  {
   "cell_type": "code",
   "execution_count": 62,
   "metadata": {},
   "outputs": [
    {
     "name": "stdout",
     "output_type": "stream",
     "text": [
      "{'efname': 'upen', 'elname': 'bendre', 'esalary': 10}\n",
      "1\n",
      "{'efname': 'chandan', 'elname': 'deshpande', 'esalary': 20}\n",
      "2\n",
      "{'efname': 'sharad', 'elname': 'bendre', 'esalary': 30}\n",
      "3\n"
     ]
    }
   ],
   "source": [
    "#Note that in the __init__ we can address the class var thru classname and operate on it\n",
    "class EmpClas2:\n",
    "    emp_count = 0 #class variable initialized to 0\n",
    "    \n",
    "    def __init__ (self, fname, lname, salary):\n",
    "        self.efname = fname\n",
    "        self.elname = lname\n",
    "        self.esalary = salary\n",
    "        EmpClas2.emp_count += 1   #increment class var each time new instance created.\n",
    "\n",
    "ec2 = EmpClas2('upen', 'bendre', 10)\n",
    "print(ec2.__dict__)   #shows attributes specific to instance. No class vars, no methods\n",
    "print(EmpClas2.emp_count)\n",
    "\n",
    "ec3 = EmpClas2('chandan', 'deshpande', 20)\n",
    "print(ec3.__dict__)   #shows attributes specific to instance. No class vars, no methods\n",
    "print(EmpClas2.emp_count)\n",
    "\n",
    "ec4 = EmpClas2('sharad', 'bendre', 30)\n",
    "print(ec4.__dict__)   #shows attributes specific to instance. No class vars, no methods\n",
    "print(EmpClas2.emp_count)\n",
    "\n"
   ]
  },
  {
   "cell_type": "code",
   "execution_count": 35,
   "metadata": {},
   "outputs": [
    {
     "name": "stdout",
     "output_type": "stream",
     "text": [
      "{'efname': 'Upen', 'elname': 'Bendre', 'esalary': 10, 'efuturesal': 2.25}\n",
      "{'efname': 'Chandan', 'elname': 'Deshpande', 'esalary': 20, 'efuturesal': 2.25}\n",
      "{'efname': 'Sharad', 'elname': 'Bendre', 'esalary': 30, 'efuturesal': 2.25}\n",
      "2.025 2.025 2.025\n",
      "2.25 2.25 2.25 2.25\n",
      "1.9124999999999999 1.9124999999999999 1.9124999999999999 1.9124999999999999\n",
      "1.9124999999999999 3.538125 1.9124999999999999 1.9124999999999999\n",
      "{'efname': 'xyz', 'elname': 'abc', 'esalary': 11, 'efuturesal': 2.025, 'raise_amt': 3.538125}\n",
      "1.9124999999999999 3.538125 1.9124999999999999 1.9124999999999999\n",
      "4 3.538125 4 4\n",
      "4 44.2914110793457 4 4\n"
     ]
    }
   ],
   "source": [
    "#Note that in the __init__ we can address the class var thru classname and operate on it\n",
    "class EmpClas2:\n",
    "    \n",
    "    raise_amt = 2.5\n",
    "    \n",
    "    #Class Method - Use of Decorators\n",
    "    #Regular method (like those above) automatically take the instance i.e. self, as first argument\n",
    "    #Class method, as decorated below, automatically takes the Class as first argument\n",
    "    @classmethod\n",
    "    def increase_salary(cls, amt):\n",
    "        return cls.raise_amt*0.9    #class method returned calc on class variable\n",
    "    \n",
    "    @classmethod\n",
    "    def square_raise(cls):\n",
    "        cls.raise_amt = round(cls.raise_amt**2)\n",
    "    \n",
    "    def __init__ (self, fname, lname, salary):\n",
    "        self.efname = fname\n",
    "        self.elname = lname\n",
    "        self.esalary = salary\n",
    "        self.efuturesal = EmpClas2.increase_salary(salary) #Used class method in the Constructor to set attribute\n",
    "        #Like above you can use Class methods freely in Constructor\n",
    "        \n",
    "ec4 = EmpClas2('Upen', 'Bendre', 10)\n",
    "print(ec4.__dict__)\n",
    "\n",
    "ec5 = EmpClas2('Chandan', 'Deshpande', 20)\n",
    "print(ec5.__dict__)\n",
    "        \n",
    "ec6 = EmpClas2('Sharad', 'Bendre', 30)\n",
    "print(ec6.__dict__)\n",
    "\n",
    "#Using classmethod to modify class var raise_amt at class level. Will reflect in all instances constructed post that.\n",
    "#In the 3 new instances, the class method was used in constructor to set attribute future sal\n",
    "EmpClas2.raise_amt = EmpClas2.increase_salary(EmpClas2.raise_amt*2)\n",
    "ec7 = EmpClas2('xyz', 'abc', 11)\n",
    "ec8 = EmpClas2('pqr', 'tuv', 22)\n",
    "ec9 = EmpClas2('asd', 'jhg', 33)\n",
    "print(ec7.__dict__['efuturesal'], ec8.__dict__['efuturesal'], ec9.__dict__['efuturesal'])\n",
    "print(EmpClas2.raise_amt, ec7.raise_amt, ec8.raise_amt, ec9.raise_amt)\n",
    "#below did not work since raise_amt is not bound to instances for any of the 3 objects yet. SO not there in their __dict__\n",
    "#print(ec7.__dict__['raise_amt'], ec8.__dict__['raise_amt'], ec9.__dict__['raise_amt'])\n",
    "EmpClas2.raise_amt *= 0.85\n",
    "print(EmpClas2.raise_amt, ec7.raise_amt, ec8.raise_amt, ec9.raise_amt)\n",
    "ec7.raise_amt *= 1.85  #raise_amt now bound to an instance\n",
    "print(EmpClas2.raise_amt, ec7.raise_amt, ec8.raise_amt, ec9.raise_amt)\n",
    "print(ec7.__dict__) #Variable bound and modified for ec7\n",
    "print(EmpClas2.raise_amt, ec7.raise_amt, ec8.raise_amt, ec9.raise_amt)\n",
    "\n",
    "#Strange behavior, but explainable\n",
    "ec7.square_raise()  #Set raise_amt class var by calling class method only on an instance. Applied to all except its own\n",
    "#Thats because the class method though called on instance ec7, was addressing class var.\n",
    "#ec7 above, has bound a separate instance of the class var (dynamic binding). So its own variable was not modified.\n",
    "print(EmpClas2.raise_amt, ec7.raise_amt, ec8.raise_amt, ec9.raise_amt)\n",
    "\n",
    "ec7.raise_amt = ec7.raise_amt**3 #Now addressing ec7's own variable. See that it was cubed\n",
    "print(EmpClas2.raise_amt, ec7.raise_amt, ec8.raise_amt, ec9.raise_amt)\n"
   ]
  },
  {
   "cell_type": "code",
   "execution_count": 51,
   "metadata": {},
   "outputs": [
    {
     "name": "stdout",
     "output_type": "stream",
     "text": [
      "Upen Bendre 55\n"
     ]
    },
    {
     "data": {
      "text/plain": [
       "{'efname': 'Upen', 'efuturesal': 66.0, 'elname': 'Bendre', 'esalary': '55'}"
      ]
     },
     "execution_count": 51,
     "metadata": {},
     "output_type": "execute_result"
    }
   ],
   "source": [
    "#Additional COnstructor using class method\n",
    "class EmpClas3:\n",
    "        \n",
    "    @classmethod    #Using class method as an alternate constructor\n",
    "    def alt_construct(cls, namestring):  \n",
    "        fn, ln, sl = namestring.split('-')\n",
    "        print(fn,ln,sl)\n",
    "        return(cls(fn, ln, sl))  #Will in turn call __init__\n",
    "    \n",
    "    @classmethod\n",
    "    def increase_salary(cls, amt):\n",
    "        return float(amt)*1.2    #class method returned calc on class variable\n",
    "    \n",
    "    \n",
    "    def __init__ (self, fname, lname, salary):\n",
    "        self.efname = fname\n",
    "        self.elname = lname\n",
    "        self.esalary = salary\n",
    "        self.efuturesal = EmpClas3.increase_salary(salary) #Used class method in the Constructor to set attribute\n",
    "        #Like above you can use Class methods freely in Constructor\n",
    "        \n",
    "ec10 = EmpClas3.alt_construct('Upen-Bendre-55')\n",
    "ec10.__dict__"
   ]
  },
  {
   "cell_type": "code",
   "execution_count": 59,
   "metadata": {},
   "outputs": [
    {
     "name": "stdout",
     "output_type": "stream",
     "text": [
      "14\n"
     ]
    },
    {
     "ename": "NameError",
     "evalue": "name 'self' is not defined",
     "output_type": "error",
     "traceback": [
      "\u001b[1;31m---------------------------------------------------------------------------\u001b[0m",
      "\u001b[1;31mNameError\u001b[0m                                 Traceback (most recent call last)",
      "\u001b[1;32m<ipython-input-59-c5dcf2560849>\u001b[0m in \u001b[0;36m<module>\u001b[1;34m()\u001b[0m\n\u001b[0;32m     19\u001b[0m \u001b[1;33m\u001b[0m\u001b[0m\n\u001b[0;32m     20\u001b[0m \u001b[0mec11\u001b[0m \u001b[1;33m=\u001b[0m \u001b[0mEmpClas5\u001b[0m\u001b[1;33m(\u001b[0m\u001b[1;34m'Upen'\u001b[0m\u001b[1;33m,\u001b[0m \u001b[1;34m'Bendre'\u001b[0m\u001b[1;33m,\u001b[0m \u001b[1;36m60\u001b[0m\u001b[1;33m)\u001b[0m\u001b[1;33m\u001b[0m\u001b[0m\n\u001b[1;32m---> 21\u001b[1;33m \u001b[0mprint\u001b[0m\u001b[1;33m(\u001b[0m\u001b[0mEmpClas5\u001b[0m\u001b[1;33m.\u001b[0m\u001b[0msome_method2\u001b[0m\u001b[1;33m(\u001b[0m\u001b[1;34m'dd'\u001b[0m\u001b[1;33m)\u001b[0m\u001b[1;33m)\u001b[0m \u001b[1;31m#Won't work since its\u001b[0m\u001b[1;33m\u001b[0m\u001b[0m\n\u001b[0m\u001b[0;32m     22\u001b[0m \u001b[0mprint\u001b[0m\u001b[1;33m(\u001b[0m\u001b[0mec11\u001b[0m\u001b[1;33m.\u001b[0m\u001b[0msome_method2\u001b[0m\u001b[1;33m(\u001b[0m\u001b[1;34m'dd'\u001b[0m\u001b[1;33m)\u001b[0m\u001b[1;33m)\u001b[0m\u001b[1;33m\u001b[0m\u001b[0m\n",
      "\u001b[1;32m<ipython-input-59-c5dcf2560849>\u001b[0m in \u001b[0;36msome_method2\u001b[1;34m(length_string)\u001b[0m\n\u001b[0;32m      8\u001b[0m     \u001b[1;33m@\u001b[0m\u001b[0mstaticmethod\u001b[0m\u001b[1;33m\u001b[0m\u001b[0m\n\u001b[0;32m      9\u001b[0m     \u001b[1;32mdef\u001b[0m \u001b[0msome_method2\u001b[0m\u001b[1;33m(\u001b[0m\u001b[0mlength_string\u001b[0m\u001b[1;33m)\u001b[0m\u001b[1;33m:\u001b[0m\u001b[1;33m\u001b[0m\u001b[0m\n\u001b[1;32m---> 10\u001b[1;33m         \u001b[1;32mreturn\u001b[0m \u001b[0mlen\u001b[0m\u001b[1;33m(\u001b[0m\u001b[0mself\u001b[0m\u001b[1;33m.\u001b[0m\u001b[0mfname\u001b[0m\u001b[1;33m)\u001b[0m\u001b[1;33m\u001b[0m\u001b[0m\n\u001b[0m\u001b[0;32m     11\u001b[0m \u001b[1;33m\u001b[0m\u001b[0m\n\u001b[0;32m     12\u001b[0m     \u001b[1;32mdef\u001b[0m \u001b[0m__init__\u001b[0m \u001b[1;33m(\u001b[0m\u001b[0mself\u001b[0m\u001b[1;33m,\u001b[0m \u001b[0mfname\u001b[0m\u001b[1;33m,\u001b[0m \u001b[0mlname\u001b[0m\u001b[1;33m,\u001b[0m \u001b[0msalary\u001b[0m\u001b[1;33m)\u001b[0m\u001b[1;33m:\u001b[0m\u001b[1;33m\u001b[0m\u001b[0m\n",
      "\u001b[1;31mNameError\u001b[0m: name 'self' is not defined"
     ]
    }
   ],
   "source": [
    "#Static methods\n",
    "class EmpClas5:\n",
    "    \n",
    "    @staticmethod\n",
    "    def some_method(length_string):\n",
    "        return len(length_string)\n",
    "\n",
    "    @staticmethod\n",
    "    def some_method2(length_string):\n",
    "        return len(self.fname)    \n",
    "    \n",
    "    def __init__ (self, fname, lname, salary):\n",
    "        self.efname = fname\n",
    "        self.elname = lname\n",
    "        self.esalary = salary\n",
    "\n",
    "#Call static method even before instantiating a class. It is static, and implementation cannot be modified by a child\n",
    "print(EmpClas5.some_method('Upen-Bendre-55')) \n",
    "\n",
    "ec11 = EmpClas5('Upen', 'Bendre', 60)\n",
    "print(EmpClas5.some_method2('dd')) #Won't work since it cannot access self\n",
    "print(ec11.some_method2('dd')) #Won't work since it cannot access self"
   ]
  },
  {
   "cell_type": "code",
   "execution_count": null,
   "metadata": {},
   "outputs": [],
   "source": [
    " \"\"\"Static methods seem to just expose a functionality. They dont have access to any class or instance variable\n",
    " So Python provided methods will mostly be static. So developers can call them. \n",
    " \n",
    " When to use what? \n",
    " If you need to act on an object. create Regular method i.e. No decorator\n",
    " If you need to act on the Class only, and some types allow an object to bind that method also, then use CLass method\n",
    " If you just want to expose functionality. No need to address instance or class, then use Static method. Static methods will not be overridden\n",
    " \n",
    " \"\"\""
   ]
  }
 ],
 "metadata": {
  "kernelspec": {
   "display_name": "Python 3",
   "language": "python",
   "name": "python3"
  }
 },
 "nbformat": 4,
 "nbformat_minor": 2
}
