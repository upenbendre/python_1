{
 "cells": [
  {
   "cell_type": "code",
   "execution_count": 47,
   "metadata": {},
   "outputs": [
    {
     "data": {
      "text/html": [
       "<div>\n",
       "<style>\n",
       "    .dataframe thead tr:only-child th {\n",
       "        text-align: right;\n",
       "    }\n",
       "\n",
       "    .dataframe thead th {\n",
       "        text-align: left;\n",
       "    }\n",
       "\n",
       "    .dataframe tbody tr th {\n",
       "        vertical-align: top;\n",
       "    }\n",
       "</style>\n",
       "<table border=\"1\" class=\"dataframe\">\n",
       "  <thead>\n",
       "    <tr style=\"text-align: right;\">\n",
       "      <th></th>\n",
       "      <th>col1</th>\n",
       "      <th>col2</th>\n",
       "      <th>col3</th>\n",
       "      <th>col4</th>\n",
       "      <th>col5</th>\n",
       "    </tr>\n",
       "  </thead>\n",
       "  <tbody>\n",
       "    <tr>\n",
       "      <th>idx1</th>\n",
       "      <td>19</td>\n",
       "      <td>3</td>\n",
       "      <td>22</td>\n",
       "      <td>23</td>\n",
       "      <td>6</td>\n",
       "    </tr>\n",
       "    <tr>\n",
       "      <th>idx2</th>\n",
       "      <td>10</td>\n",
       "      <td>19</td>\n",
       "      <td>17</td>\n",
       "      <td>10</td>\n",
       "      <td>3</td>\n",
       "    </tr>\n",
       "    <tr>\n",
       "      <th>idx3</th>\n",
       "      <td>6</td>\n",
       "      <td>13</td>\n",
       "      <td>17</td>\n",
       "      <td>9</td>\n",
       "      <td>13</td>\n",
       "    </tr>\n",
       "    <tr>\n",
       "      <th>idx4</th>\n",
       "      <td>11</td>\n",
       "      <td>1</td>\n",
       "      <td>19</td>\n",
       "      <td>3</td>\n",
       "      <td>14</td>\n",
       "    </tr>\n",
       "    <tr>\n",
       "      <th>idx5</th>\n",
       "      <td>21</td>\n",
       "      <td>4</td>\n",
       "      <td>3</td>\n",
       "      <td>0</td>\n",
       "      <td>5</td>\n",
       "    </tr>\n",
       "  </tbody>\n",
       "</table>\n",
       "</div>"
      ],
      "text/plain": [
       "      col1  col2  col3  col4  col5\n",
       "idx1    19     3    22    23     6\n",
       "idx2    10    19    17    10     3\n",
       "idx3     6    13    17     9    13\n",
       "idx4    11     1    19     3    14\n",
       "idx5    21     4     3     0     5"
      ]
     },
     "execution_count": 47,
     "metadata": {},
     "output_type": "execute_result"
    }
   ],
   "source": [
    "import numpy as np\n",
    "import pandas as pd\n",
    "df = pd.DataFrame(data=np.random.randint(25, size=(5,5)), \n",
    "                  index=['idx1','idx2','idx3','idx4','idx5'],\n",
    "                  columns=['col1','col2','col3','col4','col5'])\n",
    "df"
   ]
  },
  {
   "cell_type": "code",
   "execution_count": 65,
   "metadata": {},
   "outputs": [
    {
     "name": "stdout",
     "output_type": "stream",
     "text": [
      "['col1', 'col2', 'col3', 'col4', 'col5']\n",
      "[14.6, 11.8, 11.6, 9.6, 6.6]\n",
      "[13.4, 8.0, 15.6, 9.0, 8.2]\n",
      "   colmeans  idxmeans\n",
      "0      13.4      14.6\n",
      "1       8.0      11.8\n",
      "2      15.6      11.6\n",
      "3       9.0       9.6\n",
      "4       8.2       6.6\n"
     ]
    }
   ],
   "source": [
    "\n",
    "df.iloc[0:3]\n",
    "df['col2'].iloc[2]\n",
    "df.index.size\n",
    "df.columns.size\n",
    "collist = df.columns.tolist()\n",
    "type(collist)\n",
    "print(collist)\n",
    "print([df.loc[y].mean() for y in df.index])\n",
    "print([df[x].mean() for x in df.columns])\n",
    "x = 'col1'\n",
    "type(df.columns)\n",
    "k = pd.DataFrame(data=list(zip([df[x].mean() for x in df.columns], [df.loc[y].mean() for y in df.index])),\n",
    "                 columns=['colmeans','idxmeans'],index=np.arange(0,5))\n",
    "print(k)"
   ]
  },
  {
   "cell_type": "code",
   "execution_count": 70,
   "metadata": {},
   "outputs": [
    {
     "name": "stdout",
     "output_type": "stream",
     "text": [
      "      col1  col2\n",
      "col1  40.3 -29.0\n",
      "col2 -29.0  59.0\n"
     ]
    }
   ],
   "source": [
    "df[['col1','col2','col3']].corr()\n",
    "print(df[['col1','col2']].cov())"
   ]
  },
  {
   "cell_type": "code",
   "execution_count": 75,
   "metadata": {},
   "outputs": [
    {
     "name": "stdout",
     "output_type": "stream",
     "text": [
      "14.0 15.0\n"
     ]
    }
   ],
   "source": [
    "s = np.linalg.norm(df['col1'].loc['idx1']-df['col5'].loc['idx5'])  #Euclidian distance between two items on an array.\n",
    "#Euclidian is the geometric diagnoal distance\n",
    "\n",
    "t = np.linalg.norm(df['col5'].loc['idx1']-df['col1'].loc['idx5'])\n",
    "print(s,t) #how one cross distance is 14 and another is 15?\n",
    "\n",
    "#scipy spatial also provides similar functions but in such cases it is slower than numpy functions"
   ]
  },
  {
   "cell_type": "code",
   "execution_count": 78,
   "metadata": {},
   "outputs": [
    {
     "data": {
      "text/html": [
       "<div>\n",
       "<style>\n",
       "    .dataframe thead tr:only-child th {\n",
       "        text-align: right;\n",
       "    }\n",
       "\n",
       "    .dataframe thead th {\n",
       "        text-align: left;\n",
       "    }\n",
       "\n",
       "    .dataframe tbody tr th {\n",
       "        vertical-align: top;\n",
       "    }\n",
       "</style>\n",
       "<table border=\"1\" class=\"dataframe\">\n",
       "  <thead>\n",
       "    <tr style=\"text-align: right;\">\n",
       "      <th></th>\n",
       "      <th>col1</th>\n",
       "      <th>col2</th>\n",
       "      <th>col3</th>\n",
       "      <th>col4</th>\n",
       "      <th>col5</th>\n",
       "    </tr>\n",
       "  </thead>\n",
       "  <tbody>\n",
       "    <tr>\n",
       "      <th>idx1</th>\n",
       "      <td>1.000000</td>\n",
       "      <td>0.952574</td>\n",
       "      <td>1.000000</td>\n",
       "      <td>1.000000</td>\n",
       "      <td>0.997527</td>\n",
       "    </tr>\n",
       "    <tr>\n",
       "      <th>idx2</th>\n",
       "      <td>0.999955</td>\n",
       "      <td>1.000000</td>\n",
       "      <td>1.000000</td>\n",
       "      <td>0.999955</td>\n",
       "      <td>0.952574</td>\n",
       "    </tr>\n",
       "    <tr>\n",
       "      <th>idx3</th>\n",
       "      <td>0.997527</td>\n",
       "      <td>0.999998</td>\n",
       "      <td>1.000000</td>\n",
       "      <td>0.999877</td>\n",
       "      <td>0.999998</td>\n",
       "    </tr>\n",
       "    <tr>\n",
       "      <th>idx4</th>\n",
       "      <td>0.999983</td>\n",
       "      <td>0.731059</td>\n",
       "      <td>1.000000</td>\n",
       "      <td>0.952574</td>\n",
       "      <td>0.999999</td>\n",
       "    </tr>\n",
       "    <tr>\n",
       "      <th>idx5</th>\n",
       "      <td>1.000000</td>\n",
       "      <td>0.982014</td>\n",
       "      <td>0.952574</td>\n",
       "      <td>0.500000</td>\n",
       "      <td>0.993307</td>\n",
       "    </tr>\n",
       "  </tbody>\n",
       "</table>\n",
       "</div>"
      ],
      "text/plain": [
       "          col1      col2      col3      col4      col5\n",
       "idx1  1.000000  0.952574  1.000000  1.000000  0.997527\n",
       "idx2  0.999955  1.000000  1.000000  0.999955  0.952574\n",
       "idx3  0.997527  0.999998  1.000000  0.999877  0.999998\n",
       "idx4  0.999983  0.731059  1.000000  0.952574  0.999999\n",
       "idx5  1.000000  0.982014  0.952574  0.500000  0.993307"
      ]
     },
     "execution_count": 78,
     "metadata": {},
     "output_type": "execute_result"
    }
   ],
   "source": [
    "import math\n",
    "def sigmoid(x):\n",
    "    return 1 / (1 + math.exp(-x))\n",
    "\n",
    "df.applymap(sigmoid) #applymap() function to apply a function every cell in the dataframe\n",
    "#apply() function can work only on list, Series, one colulumn of a dataframe, array"
   ]
  },
  {
   "cell_type": "code",
   "execution_count": 79,
   "metadata": {},
   "outputs": [
    {
     "data": {
      "text/plain": [
       "'1. Write a python program to determine whether a given year is a leap year or not? \\n2. Write a Python program to get days between two dates \\n3. Write a Python program calculates the date six months from the current date using the datetime module. \\n4. Write a Python program to convert a string date to the timestamp. \\n5. Write a Python program to print a 3-column calendar for an entire year \\n6. Write a Python program display a list of the dates for the 2nd Saturday of every month for a given year.'"
      ]
     },
     "execution_count": 79,
     "metadata": {},
     "output_type": "execute_result"
    }
   ],
   "source": [
    "'''Date and Time Assignment'''\n",
    "'''1. Write a python program to determine whether a given year is a leap year or not? \n",
    "2. Write a Python program to get days between two dates \n",
    "3. Write a Python program calculates the date six months from the current date using the datetime module. \n",
    "4. Write a Python program to convert a string date to the timestamp. \n",
    "5. Write a Python program to print a 3-column calendar for an entire year \n",
    "6. Write a Python program display a list of the dates for the 2nd Saturday of every month for a given year.'''"
   ]
  },
  {
   "cell_type": "code",
   "execution_count": 87,
   "metadata": {},
   "outputs": [
    {
     "name": "stdout",
     "output_type": "stream",
     "text": [
      "2001\n"
     ]
    },
    {
     "data": {
      "text/plain": [
       "False"
      ]
     },
     "execution_count": 87,
     "metadata": {},
     "output_type": "execute_result"
    }
   ],
   "source": [
    "#Write a python program to determine whether a given year is a leap year or not? \n",
    "from datetime import datetime as dt\n",
    "yr = input()\n",
    "is_leap = (int(yr)%4 == 0)\n",
    "is_leap\n"
   ]
  },
  {
   "cell_type": "code",
   "execution_count": 137,
   "metadata": {},
   "outputs": [
    {
     "name": "stdout",
     "output_type": "stream",
     "text": [
      "                                                   0  \\\n",
      "0      January 2016\\nMo Tu We Th Fr Sa Su\\n      ...   \n",
      "1        May 2016\\nMo Tu We Th Fr Sa Su\\n        ...   \n",
      "2     September 2016\\nMo Tu We Th Fr Sa Su\\n     ...   \n",
      "\n",
      "                                                   1  \\\n",
      "0     February 2016\\nMo Tu We Th Fr Sa Su\\n 1  2 ...   \n",
      "1       June 2016\\nMo Tu We Th Fr Sa Su\\n       1...   \n",
      "2      October 2016\\nMo Tu We Th Fr Sa Su\\n      ...   \n",
      "\n",
      "                                                   2  \\\n",
      "0       March 2016\\nMo Tu We Th Fr Sa Su\\n    1  ...   \n",
      "1       July 2016\\nMo Tu We Th Fr Sa Su\\n        ...   \n",
      "2     November 2016\\nMo Tu We Th Fr Sa Su\\n    1 ...   \n",
      "\n",
      "                                                   3  \n",
      "0       April 2016\\nMo Tu We Th Fr Sa Su\\n       ...  \n",
      "1      August 2016\\nMo Tu We Th Fr Sa Su\\n 1  2  ...  \n",
      "2     December 2016\\nMo Tu We Th Fr Sa Su\\n      ...  \n"
     ]
    }
   ],
   "source": [
    "import time\n",
    "import datetime\n",
    "import calendar\n",
    "\n",
    "#print(calendar.month(1998, 11))\n",
    "year = 2016\n",
    "arr = np.arange(1,13).reshape(3,4)\n",
    "#calarr = arr.  #(lambda i,j: print(calendar.month(year,arr[i,j])))\n",
    "#print(arr)\n",
    "calarr= []\n",
    "\n",
    "#for i in range(1,4):\n",
    "#    for j in range(1,3):\n",
    "#        print(calendar.month(year,arr[j,i]))\n",
    "\n",
    "df = pd.DataFrame(data=np.arange(1,13).reshape(3,4))\n",
    "k = df.applymap(lambda i: calendar.month(year,i))\n",
    "print(k)"
   ]
  },
  {
   "cell_type": "code",
   "execution_count": null,
   "metadata": {},
   "outputs": [],
   "source": []
  },
  {
   "cell_type": "code",
   "execution_count": null,
   "metadata": {},
   "outputs": [],
   "source": []
  }
 ],
 "metadata": {
  "kernelspec": {
   "display_name": "Python 3",
   "language": "python",
   "name": "python3"
  },
  "language_info": {
   "codemirror_mode": {
    "name": "ipython",
    "version": 3
   },
   "file_extension": ".py",
   "mimetype": "text/x-python",
   "name": "python",
   "nbconvert_exporter": "python",
   "pygments_lexer": "ipython3",
   "version": "3.6.3"
  }
 },
 "nbformat": 4,
 "nbformat_minor": 2
}
