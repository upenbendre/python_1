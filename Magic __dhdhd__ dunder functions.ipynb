{
 "cells": [
  {
   "cell_type": "code",
   "execution_count": 21,
   "metadata": {},
   "outputs": [
    {
     "name": "stdout",
     "output_type": "stream",
     "text": [
      "thisstring\n",
      "10\n",
      "10\n",
      "stringer('THIS IS A STRING OBJECT','this is a string object') and stringer('THIS IS A STRING OBJECT','this is a string object')\n",
      "stringer('THIS IS A STRING OBJECT','this is a string object')\n",
      "stringer('THIS IS A STRING OBJECT','this is a string object') and stringer('THIS IS A STRING OBJECT','this is a string object')\n"
     ]
    }
   ],
   "source": [
    "#Special and magic methods, and operator overloading\n",
    "print(\"thisstring\")\n",
    "print(len(\"thisstring\"))\n",
    "print(\"thisstring\".__len__()) #calling dunder function len explicitly\n",
    "\n",
    "class stringer:\n",
    "    def __init__(self, sometext):\n",
    "        self.sometext = sometext\n",
    "    def __repr__(self):\n",
    "        return \"stringer('{}','{}')\".format(self.sometext.upper(), self.sometext.lower())\n",
    "    def __str__(self):\n",
    "        return '{} and {}'.format(self.__repr__(), self.__repr__())\n",
    "    \n",
    "sobj = stringer(\"This is a String Object\")\n",
    "print(sobj)  #Print internally calls __str__ which is then calling __repr__ in our case\n",
    "#But if you comment out __str__ it will call __repr__ directly. (try that)\n",
    "print(sobj.__repr__())\n",
    "print(sobj.__str__())  #If __str__ is not there, it will use __repr__ "
   ]
  },
  {
   "cell_type": "code",
   "execution_count": null,
   "metadata": {},
   "outputs": [],
   "source": []
  }
 ],
 "metadata": {
  "kernelspec": {
   "display_name": "Python 3",
   "language": "python",
   "name": "python3"
  },
  "language_info": {
   "codemirror_mode": {
    "name": "ipython",
    "version": 3
   },
   "file_extension": ".py",
   "mimetype": "text/x-python",
   "name": "python",
   "nbconvert_exporter": "python",
   "pygments_lexer": "ipython3",
   "version": "3.6.3"
  }
 },
 "nbformat": 4,
 "nbformat_minor": 2
}
