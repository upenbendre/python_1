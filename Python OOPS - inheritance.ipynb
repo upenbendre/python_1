{
 "cells": [
  {
   "cell_type": "code",
   "execution_count": 12,
   "metadata": {},
   "outputs": [
    {
     "data": {
      "text/plain": [
       "'When we create child class class chldclass(parentclass), and we have methods inside the child class as well,\\nthen the child method will be called.\\n\\nWhen a method is not defined in the child class, Python searches in the parent class, if not under the builtins.objects\\nIf in the builtins it is directly accessible'"
      ]
     },
     "execution_count": 12,
     "metadata": {},
     "output_type": "execute_result"
    }
   ],
   "source": [
    "\"\"\"When we create child class class chldclass(parentclass), and we have methods inside the child class as well,\n",
    "then the child method will be called.\n",
    "\n",
    "When a method is not defined in the child class, Python searches in the parent class, if not under the builtins.objects\n",
    "If in the builtins it is directly accessible\"\"\"\n",
    "\n",
    "#help(__builtins__)"
   ]
  },
  {
   "cell_type": "code",
   "execution_count": 18,
   "metadata": {},
   "outputs": [
    {
     "name": "stdout",
     "output_type": "stream",
     "text": [
      "{'efname': 'upen', 'elname': 'bendre', 'esalary': 100, 'efsalary': 90.0}\n",
      "{'elname': 'doe', 'esalary': 50, 'efsalary': 55.00000000000001, 'ebonus': 4}\n",
      "{'elname': 'doe', 'esalary': 90, 'efsalary': 55.00000000000001, 'ebonus': 4}\n",
      "99.00000000000001\n",
      "132.0\n"
     ]
    }
   ],
   "source": [
    "class EmployeeClass:\n",
    "\n",
    "    raise_amt = 0.9\n",
    "    \n",
    "    def __init__ (self, fname, lname, salary):\n",
    "        self.efname = fname\n",
    "        self.elname = lname\n",
    "        self.esalary = salary\n",
    "        self.efsalary = self.salnorm()\n",
    "        #self.ensalary = salnorm(salary) #The salnorm bound method of the object will not be accessible inside constructor\n",
    "\n",
    "    #implemented a method of the class. It must accept self instance as an argument on whose attributes it can act\n",
    "    def salnorm(self):\n",
    "       return self.esalary*EmployeeClass.raise_amt  #all employees will get reduced salary to 90%\n",
    "\n",
    "class DeveloperClass(EmployeeClass):\n",
    "    \n",
    "    def salnorm(self):\n",
    "        return self.esalary*1.1   #But developers get 10% hike\n",
    "    \n",
    "    def __init__(self, fname, lname, salary):\n",
    "        #self.efname = fname     #one less attribute in child class. See __dict__ below\n",
    "        self.elname = lname\n",
    "        self.esalary = salary\n",
    "        self.efsalary = self.salnorm() \n",
    "        self.ebonus = 4                  #extra attribute in child class. See __dict__ below\n",
    "\n",
    "ec20 = EmployeeClass('upen','bendre',100)\n",
    "dc1 = DeveloperClass('john', 'doe', 50)\n",
    "\n",
    "print(ec20.__dict__)\n",
    "print(dc1.__dict__)\n",
    "dc1.esalary = 90  #Modified an attribute on developer object\n",
    "print(dc1.__dict__)\n",
    "dc1.efsalary = DeveloperClass.salnorm(dc1)  #called regular method. But since it was called from Class, the instance had to passed\n",
    "print(dc1.efsalary)\n",
    "dc1.esalary = 120\n",
    "dc1.efsalary = dc1.salnorm() #called regular method on instance. Hence didnt have to pass self\n",
    "print(dc1.efsalary)"
   ]
  },
  {
   "cell_type": "code",
   "execution_count": 38,
   "metadata": {},
   "outputs": [
    {
     "name": "stdout",
     "output_type": "stream",
     "text": [
      "{'efname': 'upen', 'elname': 'bendre', 'esalary': 500, 'efsalary': 550.0, 'ebonus': 4}\n",
      "{'efname': 'mrLead', 'elname': 'surname', 'esalary': 250, 'efsalary': 225.0, 'reportees': []}\n",
      "{'efname': 'mrLead', 'elname': 'surname', 'esalary': 250, 'efsalary': 225.0, 'reportees': [<__main__.Emp object at 0x000000000565C908>, <__main__.Emp object at 0x00000000059137B8>, <__main__.Emp object at 0x0000000005913748>, <__main__.Dev object at 0x0000000005913EB8>]}\n",
      "Now printing all the reportees for the Lead created\n",
      "[{'efname': 'dev1', 'elname': 'sur1', 'esalary': 88, 'efsalary': 79.2}, {'efname': 'dev2', 'elname': 'sur2', 'esalary': 77, 'efsalary': 69.3}, {'efname': 'dev3', 'elname': 'sur3', 'esalary': 66, 'efsalary': 59.4}, {'efname': 'dev4', 'elname': 'sur4', 'esalary': 111, 'efsalary': 122.10000000000001, 'ebonus': 4}]\n",
      "False\n",
      "True\n",
      "True\n"
     ]
    },
    {
     "ename": "NameError",
     "evalue": "name 'implements_to_string' is not defined",
     "output_type": "error",
     "traceback": [
      "\u001b[1;31m---------------------------------------------------------------------------\u001b[0m",
      "\u001b[1;31mNameError\u001b[0m                                 Traceback (most recent call last)",
      "\u001b[1;32m<ipython-input-38-9926e9ec311b>\u001b[0m in \u001b[0;36m<module>\u001b[1;34m()\u001b[0m\n\u001b[0;32m     63\u001b[0m \u001b[0mprint\u001b[0m\u001b[1;33m(\u001b[0m\u001b[0misinstance\u001b[0m\u001b[1;33m(\u001b[0m\u001b[0ml1\u001b[0m\u001b[1;33m,\u001b[0m\u001b[0mEmp\u001b[0m\u001b[1;33m)\u001b[0m\u001b[1;33m)\u001b[0m\u001b[1;33m\u001b[0m\u001b[0m\n\u001b[0;32m     64\u001b[0m \u001b[1;33m\u001b[0m\u001b[0m\n\u001b[1;32m---> 65\u001b[1;33m \u001b[0mhelp\u001b[0m\u001b[1;33m(\u001b[0m\u001b[0mimplements_to_string\u001b[0m\u001b[1;33m)\u001b[0m\u001b[1;33m\u001b[0m\u001b[0m\n\u001b[0m",
      "\u001b[1;31mNameError\u001b[0m: name 'implements_to_string' is not defined"
     ]
    }
   ],
   "source": [
    "#Super - referring to parent instance\n",
    "class Emp:\n",
    "\n",
    "    raise_amt = 0.9\n",
    "    \n",
    "    def __init__ (self, fname, lname, salary):\n",
    "        self.efname = fname\n",
    "        self.elname = lname\n",
    "        self.esalary = salary\n",
    "        self.efsalary = self.salnorm()\n",
    "        #self.ensalary = salnorm(salary) #The salnorm bound method of the object will not be accessible inside constructor\n",
    "\n",
    "    #implemented a method of the class. It must accept self instance as an argument on whose attributes it can act\n",
    "    def salnorm(self):\n",
    "       return self.esalary*EmployeeClass.raise_amt  #all employees will get reduced salary to 90%\n",
    "\n",
    "class Dev(Emp):\n",
    "    \n",
    "    def salnorm(self):\n",
    "        return self.esalary*1.1   #But developers get 10% hike\n",
    "    \n",
    "    def __init__(self, fname, lname, salary):\n",
    "        #Should set the first 4 attributes using the parent's default constructor i.e. __init__\n",
    "        #super() method returns the parent class, and we called methods on the parent\n",
    "        super().__init__(fname, lname, salary)  \n",
    "        self.ebonus = 4                  #extra attribute in child classes. See __dict__ below\n",
    "        \n",
    "d1 = Dev('upen', 'bendre', 500)\n",
    "print(d1.__dict__)\n",
    "\n",
    "\n",
    "#another child class called Lead\n",
    "class Lead(Emp):\n",
    "    #Lead needs a list of employees reporting to him, to construct\n",
    "    def __init__(self, fname, lname, salary, reportee_list=None):   \n",
    "        #We defaulted to None to avoid passing a mutable object like a list as parameter\n",
    "        super().__init__(fname, lname, salary)  \n",
    "        if reportee_list is None:\n",
    "            self.reportees = []\n",
    "        else:\n",
    "            self.reportees = reportee_list\n",
    "\n",
    "    def add_reportee(self, reportee):\n",
    "        if reportee not in self.reportees:\n",
    "            self.reportees.append(reportee)\n",
    "    def remove_reportee(self, reportee):\n",
    "        if reportee in self.reportees:\n",
    "            self.reportees.remove(reportee)\n",
    "\n",
    "l1 = Lead('mrLead', 'surname', 250)\n",
    "print(l1.__dict__)  #Lead created with empty reportees list\n",
    "l1.add_reportee(Emp('dev1', 'sur1', 88)) #Adding employee objects\n",
    "l1.add_reportee(Emp('dev2', 'sur2', 77))\n",
    "l1.add_reportee(Emp('dev3', 'sur3', 66))\n",
    "l1.add_reportee(Dev('dev4', 'sur4', 111)) #Added on Dev object\n",
    "print(l1.__dict__)  #Lead created with empty reportees list\n",
    "print(\"Now printing all the reportees for the Lead created\")\n",
    "print([l1.reportees[i].__dict__ for i in range(0,len(l1.reportees))])\n",
    "\n",
    "#Check if one class is a subclass of another, or an instance of another\n",
    "print(issubclass(Emp, Dev))\n",
    "print(issubclass(Lead, Emp))\n",
    "print(isinstance(l1,Emp))\n"
   ]
  },
  {
   "cell_type": "code",
   "execution_count": null,
   "metadata": {},
   "outputs": [],
   "source": []
  }
 ],
 "metadata": {
  "kernelspec": {
   "display_name": "Python 3",
   "language": "python",
   "name": "python3"
  },
  "language_info": {
   "codemirror_mode": {
    "name": "ipython",
    "version": 3
   },
   "file_extension": ".py",
   "mimetype": "text/x-python",
   "name": "python",
   "nbconvert_exporter": "python",
   "pygments_lexer": "ipython3",
   "version": "3.6.3"
  }
 },
 "nbformat": 4,
 "nbformat_minor": 2
}
