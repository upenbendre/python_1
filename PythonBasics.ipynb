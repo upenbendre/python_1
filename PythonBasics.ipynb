{
 "cells": [
  {
   "cell_type": "markdown",
   "metadata": {},
   "source": [
    "<img src=\"https://shwetkm.github.io/upxlogo.png\"></img>\n",
    "\n",
    "# Python Basics - Data Science Foundation\n",
    "\n",
    "**SET THE WORKING DIRECTORY SO THAT WE DO NOT HAVE TO THINK ABOUT PATH PROBLEMS**\n",
    "\n",
    "Please ensure all your folder names <font color='red'><b>do not have a space & use forward slash (/)</b></font>"
   ]
  },
  {
   "cell_type": "code",
   "execution_count": 1,
   "metadata": {},
   "outputs": [],
   "source": [
    "your_local_path=\"\""
   ]
  },
  {
   "cell_type": "markdown",
   "metadata": {},
   "source": [
    "\n",
    "**IPython notebook**\n",
    "\n",
    "IPython is a software package in Python that serves as a research notebook. IPython has a seamless interface using which you can write notes as well as perform data analysis in the same file. The data analysis part allows you to write the code and run it from within the notebook itself. The results also are displayed in the notebook. Among other things, IPython provides:\n",
    "\n",
    "1. An interactive shell\n",
    "2. Notebook that is browser based. The notebook supports text, code, expressions, graphs and interactive data visualization, embed images and videos, and also links to web pages on the Internet. \n",
    "3. Tools for parallel computing.\n",
    "4. Import external code and run it.\n",
    "5. Export the notebook in a number of formats.\n",
    "\n",
    "**Creating an IPython notebook**\n",
    "\n",
    "In order to create an IPython notebook, choose File -> New -> IPython notebook. \n",
    "\n",
    "Hitting Alt+Enter creates a new cell. A cell is nothing but a placeholder where you can write some text or execute code. \n",
    "To run press Shift+Enter"
   ]
  },
  {
   "cell_type": "code",
   "execution_count": 2,
   "metadata": {},
   "outputs": [
    {
     "name": "stdout",
     "output_type": "stream",
     "text": [
      "An example of code execution in IPython\n"
     ]
    },
    {
     "data": {
      "text/plain": [
       "12489"
      ]
     },
     "execution_count": 2,
     "metadata": {},
     "output_type": "execute_result"
    }
   ],
   "source": [
    "print (\"An example of code execution in IPython\")\n",
    "23*543"
   ]
  },
  {
   "cell_type": "markdown",
   "metadata": {},
   "source": [
    "In order to find help on some concept, make use of ? If you want to find a function or make use of wildcard entry, make use of followed by ? A quickref command gives you a quick reference to the most commonly used commands in Python."
   ]
  },
  {
   "cell_type": "code",
   "execution_count": 7,
   "metadata": {},
   "outputs": [
    {
     "ename": "SyntaxError",
     "evalue": "invalid syntax (<ipython-input-7-0d9f90af4ebb>, line 1)",
     "output_type": "error",
     "traceback": [
      "\u001b[1;36m  File \u001b[1;32m\"<ipython-input-7-0d9f90af4ebb>\"\u001b[1;36m, line \u001b[1;32m1\u001b[0m\n\u001b[1;33m    print?\u001b[0m\n\u001b[1;37m         ^\u001b[0m\n\u001b[1;31mSyntaxError\u001b[0m\u001b[1;31m:\u001b[0m invalid syntax\n"
     ]
    }
   ],
   "source": [
    "#any concept keyword followed by '?', gives a quickref about it\"\"\"\n",
    "print?"
   ]
  },
  {
   "cell_type": "markdown",
   "metadata": {},
   "source": [
    "**How to search different functions within a package**"
   ]
  },
  {
   "cell_type": "code",
   "execution_count": 8,
   "metadata": {},
   "outputs": [],
   "source": [
    "import numpy as np\n",
    "np.*mean*?"
   ]
  },
  {
   "cell_type": "markdown",
   "metadata": {},
   "source": [
    "Tab is a very handy feature in Python. It gives you a list of all the functions and commands that are associated with a package (such as NumPy). For example, if you type np. and then press tab, a dropdown will come up with the list of all the functions associate with np. By using this, you do not have to rememeber the functions specifics and can just use tab completion."
   ]
  },
  {
   "cell_type": "code",
   "execution_count": null,
   "metadata": {},
   "outputs": [],
   "source": [
    "np."
   ]
  },
  {
   "cell_type": "markdown",
   "metadata": {},
   "source": [
    "If you want to know the histroy of commands, make use of history command. This feature also allows you to extract code from a IPython notebook to a separate file. "
   ]
  },
  {
   "cell_type": "code",
   "execution_count": 9,
   "metadata": {},
   "outputs": [
    {
     "name": "stdout",
     "output_type": "stream",
     "text": [
      "your_local_path=\"\"\n",
      "print (\"An example of code execution in IPython\")\n",
      "23*543\n",
      "print?\n",
      "print? #any concept keyword followed by ?, gives a quickref about it\n",
      "print? \"\"\"#any concept keyword followed by ?, gives a quickref about it\"\"\"\n",
      "#any concept keyword followed by '?', gives a quickref about it\n",
      "print?\n",
      "print?\n",
      "import numpy as np\n",
      "np.*mean*?\n",
      "%history\n"
     ]
    }
   ],
   "source": [
    "%history"
   ]
  },
  {
   "cell_type": "markdown",
   "metadata": {},
   "source": [
    "**Running external code files in IPython**\n",
    "\n",
    "If you want to run external code files in Python, make use of %run command followed by the path of the file. IPython shell will execute the code and will display the results."
   ]
  },
  {
   "cell_type": "code",
   "execution_count": 12,
   "metadata": {},
   "outputs": [
    {
     "name": "stdout",
     "output_type": "stream",
     "text": [
      "HelloWorld.py\n",
      "Hello World\n"
     ]
    }
   ],
   "source": [
    "filepath = your_local_path + \"HelloWorld.py\"\n",
    "print(filepath)\n",
    "#file path for a notebook is relative to where Jupyter notebook instance is running from Anaconda prompt.\n",
    "#Hence when started from same folder where files, filepath may be blank\n",
    "%run $filepath"
   ]
  },
  {
   "cell_type": "markdown",
   "metadata": {},
   "source": [
    "**Syntax Formalities**\n",
    "\n",
    "+ Python is <b>case sensitive</b>\n",
    "+ Python makes use of <b>whitespace</b> for code structuring and marking logical breaks in the code (In contrast to other programming languages that use braces)\n",
    "+ End of line marks end of a statement, so <b>does not require a semicolon at end of each statement</b>\n",
    "+ Whitespace at the beginning of the line is important. This is called <b>indentation</b>.\n",
    "+ Leading whitespace (spaces and tabs) at the beginning of the logical line is used to determine the <b>indentation level</b> of the logical line.\n",
    "+ Statements which go together must have the same indentation. Each such set of statements is called a <b>block</b>."
   ]
  },
  {
   "cell_type": "code",
   "execution_count": 14,
   "metadata": {},
   "outputs": [
    {
     "name": "stdout",
     "output_type": "stream",
     "text": [
      "Value is  5\n",
      "I repeat, the value is  5\n"
     ]
    }
   ],
   "source": [
    "i = 5\n",
    " print ('Value is ', i) # Error! Notice a single space at the start of the line\n",
    "print ('I repeat, the value is ', i)"
   ]
  },
  {
   "cell_type": "markdown",
   "metadata": {},
   "source": [
    "**Comments** \n",
    "\n",
    "One line comments are denoted by <font color='red'><b>#</b></font> at the start of line<br/>\n",
    "Multiple line/block comments start with <font color='red'><b>'''</b></font> and end with <font color='red'><b>'''</b></font>"
   ]
  },
  {
   "cell_type": "code",
   "execution_count": 15,
   "metadata": {},
   "outputs": [
    {
     "name": "stdout",
     "output_type": "stream",
     "text": [
      "We are out of the comment\n"
     ]
    }
   ],
   "source": [
    "# this is a single line comment\n",
    "# print(\"I will not be printed, I am a single line comment\")\n",
    "''' This is a block comment 3 single quotes\n",
    "print(\"We are in a comment\")\n",
    "print (\"We are still in a comment\")\n",
    "'''\n",
    "print(\"We are out of the comment\")"
   ]
  },
  {
   "cell_type": "code",
   "execution_count": null,
   "metadata": {},
   "outputs": [],
   "source": [
    "#Example of indentation\n",
    "'''\n",
    "for x in alist:\n",
    "    if x < anumber:\n",
    "            print(x)\n",
    "    else:\n",
    "        print(-x)\n",
    "        \n",
    "is similar to                   <------------------ Let us compare with other language\n",
    "\n",
    "for x in alist \n",
    "{\n",
    "    if x < anumber\n",
    "    {\n",
    "        print(x)\n",
    "    }\n",
    "    else\n",
    "    {\n",
    "        print(-x)\n",
    "    }\n",
    "}\n",
    "'''\n",
    "print(\"Now we understand indentation\")"
   ]
  },
  {
   "cell_type": "code",
   "execution_count": 16,
   "metadata": {},
   "outputs": [
    {
     "name": "stdout",
     "output_type": "stream",
     "text": [
      "21\n"
     ]
    }
   ],
   "source": [
    "x = 21\n",
    "y = 25\n",
    "print (x)\n",
    "if x<10:\n",
    "    print(x)\n",
    "    print(y)"
   ]
  },
  {
   "cell_type": "markdown",
   "metadata": {},
   "source": [
    "**Variables and Data Structures**\n",
    "\n",
    "+ Built-in data types:<br/>\n",
    "<b>Integer, Floating point, String, Boolean Values, Date and Time</b>\n",
    "\n",
    "+ Additional data structures:<br/>\n",
    "<b>Tuples, Lists, Dictionary</b>\n",
    "\n",
    "+ A variable is a name that refers to a value.\n",
    "+ No need to specify <b>type</b> to a variable; Python automatically assigns.\n"
   ]
  },
  {
   "cell_type": "code",
   "execution_count": 17,
   "metadata": {},
   "outputs": [
    {
     "name": "stdout",
     "output_type": "stream",
     "text": [
      "100\n",
      "1000.0\n",
      "Ajay\n",
      "1111111111112.0\n",
      "02\n"
     ]
    }
   ],
   "source": [
    "counter = 100          # An integer assignment\n",
    "miles   = 1000.0       # A floating point\n",
    "name    = \"Ajay\"       # A string\n",
    "\n",
    "print (counter)\n",
    "print (miles)\n",
    "print (name)\n",
    "\n",
    "a = 1111111111110\n",
    "b = 2.0\n",
    "c = \"0\"\n",
    "d = \"2\"\n",
    "print(b + a)  # Sum of values\n",
    "print(c  + d) # Concatenating Strings"
   ]
  },
  {
   "cell_type": "markdown",
   "metadata": {},
   "source": [
    "**Strings**\n",
    "\n",
    "+ Built-in <b>string class</b> named <b>\"str\"</b> with many handy features\n",
    "+ In addition to numerical data processing, Python has very strong string processing capabilities. \n",
    "+ <b>Subsets</b> of strings can be taken using the <b>slice operator ( [ ] and [ : ] )</b> with indexes starting at 0 in the beginning of the string and working their way from -1 at the end.\n",
    "+ The plus ( + ) sign is the string concatenation operator and the asterisk ( * ) is the repetition operator.\n",
    "+ Strings in Python are <b>immutable</b>. Unlike other datasets such as lists, you cannot manipulate individual string values. In order to do so, you have to take subsets of strings and form a new string. \n",
    "+ A string can be converted to a numerical type and vice versa (wherever applicable). Many a times, raw data, although numeric, is coded in string format. This feature provides a clean way to make sure all of the data is in numeric form.\n",
    "+ Strings are sequence of characters and can be <b>tokenized</b>.\n",
    "+ Strings and numbers can also be <b>formatted</b>.\n",
    "\n"
   ]
  },
  {
   "cell_type": "code",
   "execution_count": 18,
   "metadata": {},
   "outputs": [
    {
     "name": "stdout",
     "output_type": "stream",
     "text": [
      "Hello World\n",
      "H\n",
      "llo \n",
      "llo World\n",
      "Hello WorldHello World\n",
      "Hello WorldTEST\n"
     ]
    }
   ],
   "source": [
    "strr = 'Hello World'\n",
    "print (strr)            # prints complete string\n",
    "print (strr[0])         # prints first character of string\n",
    "print (strr[2:6])       # prints characters starting from 3rd to 6th. Exclude last element. 'W' is excluded.\n",
    "print (strr[2:])        # prints string starting from 3rd character\n",
    "print (strr*2)          # prints string two times\n",
    "print (strr + \"TEST\")   # prints concatenated string"
   ]
  },
  {
   "cell_type": "code",
   "execution_count": 19,
   "metadata": {},
   "outputs": [
    {
     "name": "stdout",
     "output_type": "stream",
     "text": [
      "o\n",
      "this is a string\n",
      "this is a longer string\n",
      "40\n"
     ]
    },
    {
     "ename": "ValueError",
     "evalue": "invalid literal for int() with base 10: 'hi'",
     "output_type": "error",
     "traceback": [
      "\u001b[1;31m---------------------------------------------------------------------------\u001b[0m",
      "\u001b[1;31mValueError\u001b[0m                                Traceback (most recent call last)",
      "\u001b[1;32m<ipython-input-19-4c1e7f2ceb80>\u001b[0m in \u001b[0;36m<module>\u001b[1;34m()\u001b[0m\n\u001b[0;32m     12\u001b[0m \u001b[1;33m\u001b[0m\u001b[0m\n\u001b[0;32m     13\u001b[0m \u001b[0ma\u001b[0m \u001b[1;33m=\u001b[0m \u001b[1;34m\"hi\"\u001b[0m\u001b[1;33m\u001b[0m\u001b[0m\n\u001b[1;32m---> 14\u001b[1;33m \u001b[0manum\u001b[0m \u001b[1;33m=\u001b[0m \u001b[0mint\u001b[0m\u001b[1;33m(\u001b[0m\u001b[0ma\u001b[0m\u001b[1;33m)\u001b[0m         \u001b[1;31m# Typecaste/Convert String 'hi' to Integer - Not Possible\u001b[0m\u001b[1;33m\u001b[0m\u001b[0m\n\u001b[0m\u001b[0;32m     15\u001b[0m \u001b[0mprint\u001b[0m \u001b[1;33m(\u001b[0m\u001b[0manum\u001b[0m\u001b[1;33m)\u001b[0m\u001b[1;33m\u001b[0m\u001b[0m\n\u001b[0;32m     16\u001b[0m \u001b[1;33m\u001b[0m\u001b[0m\n",
      "\u001b[1;31mValueError\u001b[0m: invalid literal for int() with base 10: 'hi'"
     ]
    }
   ],
   "source": [
    "strr =\"hello\"\n",
    "print(strr[-1])\n",
    "\n",
    "a = 'this is a string'\n",
    "b = a.replace('string','longer string') #string object is mutable. It has a replace method\n",
    "print (a) \n",
    "print (b)\n",
    "\n",
    "a = '20'\n",
    "anum = int(a)         # Typecaste/Convert String '20' to Integer - Possible\n",
    "print (anum + anum)\n",
    "\n",
    "a = \"hi\"\n",
    "anum = int(a)         # Typecaste/Convert String 'hi' to Integer - Not Possible\n",
    "print (anum)\n",
    "\n"
   ]
  },
  {
   "cell_type": "code",
   "execution_count": null,
   "metadata": {},
   "outputs": [],
   "source": [
    "a = \"hi\"\n",
    "print (a)\n",
    "print (len(a))\n"
   ]
  },
  {
   "cell_type": "code",
   "execution_count": null,
   "metadata": {},
   "outputs": [],
   "source": [
    "a + len(a) # Concatenating String & Integer - Error"
   ]
  },
  {
   "cell_type": "code",
   "execution_count": null,
   "metadata": {},
   "outputs": [],
   "source": [
    "a + str(len(a)) # Convert to String so that concatenation works"
   ]
  },
  {
   "cell_type": "code",
   "execution_count": 21,
   "metadata": {},
   "outputs": [
    {
     "name": "stdout",
     "output_type": "stream",
     "text": [
      "['T', 'h', 'i', 's', ' ', 'i', 's', ' ', 'p', 'y', 't', 'h', 'o', 'n']\n"
     ]
    },
    {
     "data": {
      "text/plain": [
       "'4.2000 Shekel is $4'"
      ]
     },
     "execution_count": 21,
     "metadata": {},
     "output_type": "execute_result"
    }
   ],
   "source": [
    "# Lets us see how to create formatted outputs\n",
    "string = \"This is python\"\n",
    "strlist = list(string) #String converted to list\n",
    "print(strlist)\n",
    "\n",
    "#though format is a keyword, you can reference formatting string using any other identified. See second example below.\n",
    "format = '%.2f %s is $%d'            # Let us visualize the formatting '%.2f %s is $%d' is like 'Float String Integer'\n",
    "format %(4.5560,'Argentine Pesos',1)\n",
    "\n",
    "frm = '%.4f %s is $%d'\n",
    "frm %(4.2, 'Shekel', 4)\n"
   ]
  },
  {
   "cell_type": "code",
   "execution_count": 22,
   "metadata": {},
   "outputs": [
    {
     "name": "stdout",
     "output_type": "stream",
     "text": [
      "2\n",
      "['This', 'is', 'python']\n",
      "THIS IS PYTHON\n",
      "this is python\n",
      "tHIS IS PYTHON\n"
     ]
    }
   ],
   "source": [
    "print (string.count('s'))\n",
    "print (string.split(' '))\n",
    "print (string.upper())\n",
    "print (string.lower())\n",
    "print (string.swapcase())"
   ]
  },
  {
   "cell_type": "code",
   "execution_count": 23,
   "metadata": {},
   "outputs": [
    {
     "name": "stdout",
     "output_type": "stream",
     "text": [
      "    This is a bright, sunny day\n",
      "This is a bright, sunny day      \n",
      "This is a bright, sunny day\n",
      " : : : :T:h:i:s: :i:s: :a: :b:r:i:g:h:t:,: :s:u:n:n:y: :d:a:y: : : : : : \n",
      "banana grapes\n",
      "31\n"
     ]
    }
   ],
   "source": [
    "str1 = \"    This is a bright, sunny day      \"\n",
    "print (str1.rstrip())                   # Remove spaces to the right \n",
    "print (str1.lstrip())                   # Remove spaces to the left \n",
    "print (str1.strip())                    # Remove spaces on both side \n",
    "print (\":\".join(str1))                  # Sequence of elements to be joined\n",
    "\n",
    "print (\" \".join([\"banana\",\"grapes\"]))   # How to do string concatenation. Treat it as a list. One element is nothing but a word.\n",
    "print (len(str1.rstrip()))"
   ]
  },
  {
   "cell_type": "code",
   "execution_count": 24,
   "metadata": {},
   "outputs": [
    {
     "name": "stdout",
     "output_type": "stream",
     "text": [
      "True\n",
      "False\n"
     ]
    }
   ],
   "source": [
    "school = 'ISB'\n",
    "print('S' in school)\n",
    "print('L' in school)"
   ]
  },
  {
   "cell_type": "code",
   "execution_count": 25,
   "metadata": {},
   "outputs": [
    {
     "name": "stdout",
     "output_type": "stream",
     "text": [
      "0.9032 <class 'float'>\n"
     ]
    }
   ],
   "source": [
    "# Let see how to get the type of the variables\n",
    "x='X-DSPAM-Confidence:   0.9032'\n",
    "pos = x.find(':')\n",
    "num=float(x[pos+1:])\n",
    "print (num, type(num))"
   ]
  },
  {
   "cell_type": "code",
   "execution_count": 26,
   "metadata": {
    "scrolled": true
   },
   "outputs": [],
   "source": [
    "# Let us do some exercises\n",
    "# Excercise 1\n",
    "# Given below string, get first 10 characters, and last 10 characters.\n",
    "# Now join them to form a new string with an underscore in between\n",
    "strr = 'Hey how are you doing. We are doing good'\n"
   ]
  },
  {
   "cell_type": "code",
   "execution_count": 31,
   "metadata": {},
   "outputs": [
    {
     "name": "stdout",
     "output_type": "stream",
     "text": [
      "Help on built-in function print in module builtins:\n",
      "\n",
      "print(...)\n",
      "    print(value, ..., sep=' ', end='\\n', file=sys.stdout, flush=False)\n",
      "    \n",
      "    Prints the values to a stream, or to sys.stdout by default.\n",
      "    Optional keyword arguments:\n",
      "    file:  a file-like object (stream); defaults to the current sys.stdout.\n",
      "    sep:   string inserted between values, default a space.\n",
      "    end:   string appended after the last value, default a newline.\n",
      "    flush: whether to forcibly flush the stream.\n",
      "\n"
     ]
    }
   ],
   "source": [
    "#Consider two strings x and y\n",
    "x = 'Confusing'\n",
    "y = 'Strings'\n",
    "#Swap first three characters of each string and join them by an _\n",
    "x[0:3]"
   ]
  },
  {
   "cell_type": "markdown",
   "metadata": {},
   "source": [
    "**Datetime**\n",
    "\n",
    "Python has a <b>built-in datetime module</b> for working with dates and times.\n",
    "One can create strings from date objects and vice versa. \n",
    "\n",
    "\n",
    "Python offers very powerful and flexible datetime capabilities that are capable of operating at a scale of time measured in nano-seconds. We will look more about date time functionality in Session 3."
   ]
  },
  {
   "cell_type": "code",
   "execution_count": 35,
   "metadata": {},
   "outputs": [
    {
     "name": "stdout",
     "output_type": "stream",
     "text": [
      "Help on built-in function strptime:\n",
      "\n",
      "strptime(...) method of builtins.type instance\n",
      "    string, format -> new datetime parsed from a string (like time.strptime()).\n",
      "\n",
      "16\n",
      "2014-05-16 13:43:28\n",
      "3 days, 0:00:00\n",
      "2014-05-16 00:00:00\n"
     ]
    }
   ],
   "source": [
    "from datetime import datetime, date, time\n",
    "help(datetime.strptime)                                        # Help for a function\n",
    "date1 = datetime(2014, 5, 16, 14, 45, 5)\n",
    "print(date1.day)\n",
    "print(datetime.strptime('20140516134328','%Y%m%d%H%M%S'))      # Parses a string representing a time according to a format\n",
    "\n",
    "date1 = datetime(2014, 5, 16)\n",
    "date2 = datetime(2014, 5, 19)\n",
    "datediff = date2 - date1\n",
    "print(datediff)\n",
    "print(datetime.strptime('20140516','%Y%m%d'))"
   ]
  },
  {
   "cell_type": "markdown",
   "metadata": {},
   "source": [
    "**Lists**\n",
    "\n",
    "+ Lists, along with dictionary, are perhaps most important data types.\n",
    "+ A list contains items separated by commas and enclosed within square brackets ([]).\n",
    "+ All the items belonging to a list can be of <b>different data type</b>.\n",
    "+ Lists are similar to arrays in C language.\n",
    "+ The <b>plus ( + )</b> sign is the list concatenation operator, and the <b>asterisk ( * )</b> is the repetition operator.\n"
   ]
  },
  {
   "cell_type": "code",
   "execution_count": 36,
   "metadata": {},
   "outputs": [
    {
     "name": "stdout",
     "output_type": "stream",
     "text": [
      "['abcd', 786, 2.23, 'ISB', 70.2]\n",
      "abcd\n",
      "[786, 2.23]\n",
      "[2.23, 'ISB', 70.2]\n",
      "[123, 'ISB', 123, 'ISB']\n",
      "['abcd', 786, 2.23, 'ISB', 70.2, 123, 'ISB']\n",
      "5\n"
     ]
    }
   ],
   "source": [
    "list_ = [ 'abcd', 786 , 2.23, 'ISB', 70.2 ]\n",
    "tinylist = [123, 'ISB']\n",
    "\n",
    "print (list_)            # Prints complete list\n",
    "print (list_[0])         # Prints first element of the list\n",
    "print (list_[1:3])       # Prints elements starting from 2nd till 3rd \n",
    "print (list_[2:])        # Prints elements starting from 3rd element\n",
    "print (tinylist * 2)     # Prints list two times\n",
    "print (list_ + tinylist) # Prints concatenated lists\n",
    "print (len(list_))"
   ]
  },
  {
   "cell_type": "code",
   "execution_count": 37,
   "metadata": {},
   "outputs": [
    {
     "name": "stdout",
     "output_type": "stream",
     "text": [
      "['abcd', 786, 2.23, 'ISB', 70.2, 'abcd', 786, 2.23, 'ISB', 70.2]\n"
     ]
    }
   ],
   "source": [
    "alist = [ 'abcd', 786 , 2.23, 'ISB', 70.2 ]\n",
    "blist = alist\n",
    "alist = alist*2\n",
    "print (alist)"
   ]
  },
  {
   "cell_type": "code",
   "execution_count": 38,
   "metadata": {},
   "outputs": [
    {
     "name": "stdout",
     "output_type": "stream",
     "text": [
      "['abcd', 786, 2.23, 'ISB', 70.2]\n"
     ]
    }
   ],
   "source": [
    "#Check the behavior\n",
    "print (blist)"
   ]
  },
  {
   "cell_type": "code",
   "execution_count": 39,
   "metadata": {},
   "outputs": [
    {
     "name": "stdout",
     "output_type": "stream",
     "text": [
      "['abcd', 786, 2.23, 'ISB', 70.2, 'abcd', 786, 2.23, 'ISB', 70.2]\n"
     ]
    }
   ],
   "source": [
    "blist = alist\n",
    "print (blist)"
   ]
  },
  {
   "cell_type": "code",
   "execution_count": null,
   "metadata": {},
   "outputs": [],
   "source": [
    "list_ = ['Ajay', 'Vijay', 'Ramesh']\n",
    "list_.append('Sujay')         \n",
    "list_.insert(0, 'NewGuy')       \n",
    "list_.extend(['Guy1', 'Guy2']) \n",
    "print (list_)  \n",
    "print (list_.index('Guy1')) \n",
    "list_.remove('Guy1')                 # Remove by Name\n",
    "list_.pop(1)                         # Remove by location - Ajay is gone\n",
    "print (list_)"
   ]
  },
  {
   "cell_type": "code",
   "execution_count": 40,
   "metadata": {},
   "outputs": [
    {
     "name": "stdout",
     "output_type": "stream",
     "text": [
      "[1, 1, 2, 5, 23, 23, 34, 54, 54, 54, 76, 76, 87]\n",
      "13\n",
      "87\n",
      "1\n"
     ]
    }
   ],
   "source": [
    "#Sorting\n",
    "numberlist = [1, 5, 23, 1 ,54,2, 54,23, 54,76, 76,34,87]\n",
    "numberlist.sort()\n",
    "print(numberlist)\n",
    "print (len(numberlist))\n",
    "print (max(numberlist))\n",
    "print (min(numberlist))"
   ]
  },
  {
   "cell_type": "code",
   "execution_count": 41,
   "metadata": {},
   "outputs": [
    {
     "name": "stdout",
     "output_type": "stream",
     "text": [
      "['efg', 'lmn', 'abcd', 'hijk']\n"
     ]
    }
   ],
   "source": [
    "string = ['abcd', 'efg', 'hijk', 'lmn']\n",
    "print (sorted(string, key=len)) #len function applied to every element in the list called string. That result is sorted"
   ]
  },
  {
   "cell_type": "code",
   "execution_count": null,
   "metadata": {},
   "outputs": [],
   "source": [
    "#You can even pass your own function\n",
    "mylist = ['abcg', 'eff', 'hijd', 'lmi']\n",
    "\n",
    "def func1(input):\n",
    "    return input[-1]                    # Sort based on last element\n",
    "\n",
    "print (sorted(mylist, key=func1))"
   ]
  },
  {
   "cell_type": "markdown",
   "metadata": {},
   "source": [
    "**Dictionary**\n",
    "\n",
    "+ One of the most important built-in data structure.\n",
    "+ Python's dictionaries are kind of <b>hash tables</b>.\n",
    "+ They work like associative arrays and consist of <font color='red'><b>key-value pairs</b></font>. \n",
    "+ A dictionary key can be almost any Python type, but are usually numbers or strings. \n",
    "+ Values, on the other hand, can be any arbitrary Python object.\n",
    "+ Dictionaries are enclosed by <b>curly braces ( { } )</b> and values can be assigned and accessed using <b>square braces ( [] )</b>.\n"
   ]
  },
  {
   "cell_type": "code",
   "execution_count": 68,
   "metadata": {},
   "outputs": [
    {
     "name": "stdout",
     "output_type": "stream",
     "text": [
      "This is one\n",
      "This is two\n",
      "{'name': 'isb', 'code': 6734, 'dept': 'sales'}\n",
      "dict_keys(['name', 'code', 'dept'])\n",
      "dict_values(['isb', 6734, 'sales'])\n"
     ]
    }
   ],
   "source": [
    "\n",
    "dict = {}\n",
    "dict['one'] = \"This is one\"\n",
    "dict[2]     = \"This is two\"\n",
    "tinydict = {'name': 'isb','code':6734, 'dept': 'sales'}\n",
    "\n",
    "print (dict['one'])       # Prints value for 'one' key\n",
    "print (dict[2])           # Prints value for 2 key\n",
    "print (tinydict)          # Prints complete dictionary\n",
    "print (tinydict.keys())   # Prints all the keys\n",
    "print (tinydict.values()) # Prints all the values\n"
   ]
  },
  {
   "cell_type": "code",
   "execution_count": 91,
   "metadata": {},
   "outputs": [
    {
     "ename": "NameError",
     "evalue": "name 'count' is not defined",
     "output_type": "error",
     "traceback": [
      "\u001b[1;31m---------------------------------------------------------------------------\u001b[0m",
      "\u001b[1;31mNameError\u001b[0m                                 Traceback (most recent call last)",
      "\u001b[1;32m<ipython-input-91-4f7909ffe9d1>\u001b[0m in \u001b[0;36m<module>\u001b[1;34m()\u001b[0m\n\u001b[0;32m     18\u001b[0m     \u001b[1;32mreturn\u001b[0m \u001b[0mmap\u001b[0m\u001b[1;33m[\u001b[0m\u001b[0mchoice\u001b[0m\u001b[1;33m]\u001b[0m\u001b[1;33m(\u001b[0m\u001b[0marr\u001b[0m\u001b[1;33m)\u001b[0m\u001b[1;33m\u001b[0m\u001b[0m\n\u001b[0;32m     19\u001b[0m \u001b[1;33m\u001b[0m\u001b[0m\n\u001b[1;32m---> 20\u001b[1;33m \u001b[0mprint\u001b[0m\u001b[1;33m(\u001b[0m\u001b[0marr1map\u001b[0m\u001b[1;33m(\u001b[0m\u001b[0mdict1\u001b[0m\u001b[1;33m,\u001b[0m \u001b[1;34m'counter'\u001b[0m\u001b[1;33m,\u001b[0m \u001b[0marr1\u001b[0m\u001b[1;33m)\u001b[0m\u001b[1;33m)\u001b[0m\u001b[1;33m\u001b[0m\u001b[0m\n\u001b[0m",
      "\u001b[1;32m<ipython-input-91-4f7909ffe9d1>\u001b[0m in \u001b[0;36marr1map\u001b[1;34m(map, choice, arr)\u001b[0m\n\u001b[0;32m     16\u001b[0m \u001b[1;33m\u001b[0m\u001b[0m\n\u001b[0;32m     17\u001b[0m \u001b[1;32mdef\u001b[0m \u001b[0marr1map\u001b[0m\u001b[1;33m(\u001b[0m\u001b[0mmap\u001b[0m\u001b[1;33m,\u001b[0m \u001b[0mchoice\u001b[0m\u001b[1;33m,\u001b[0m \u001b[0marr\u001b[0m\u001b[1;33m)\u001b[0m\u001b[1;33m:\u001b[0m\u001b[1;33m\u001b[0m\u001b[0m\n\u001b[1;32m---> 18\u001b[1;33m     \u001b[1;32mreturn\u001b[0m \u001b[0mmap\u001b[0m\u001b[1;33m[\u001b[0m\u001b[0mchoice\u001b[0m\u001b[1;33m]\u001b[0m\u001b[1;33m(\u001b[0m\u001b[0marr\u001b[0m\u001b[1;33m)\u001b[0m\u001b[1;33m\u001b[0m\u001b[0m\n\u001b[0m\u001b[0;32m     19\u001b[0m \u001b[1;33m\u001b[0m\u001b[0m\n\u001b[0;32m     20\u001b[0m \u001b[0mprint\u001b[0m\u001b[1;33m(\u001b[0m\u001b[0marr1map\u001b[0m\u001b[1;33m(\u001b[0m\u001b[0mdict1\u001b[0m\u001b[1;33m,\u001b[0m \u001b[1;34m'counter'\u001b[0m\u001b[1;33m,\u001b[0m \u001b[0marr1\u001b[0m\u001b[1;33m)\u001b[0m\u001b[1;33m)\u001b[0m\u001b[1;33m\u001b[0m\u001b[0m\n",
      "\u001b[1;32m<ipython-input-91-4f7909ffe9d1>\u001b[0m in \u001b[0;36mctx\u001b[1;34m(lst)\u001b[0m\n\u001b[0;32m      2\u001b[0m \u001b[1;33m\u001b[0m\u001b[0m\n\u001b[0;32m      3\u001b[0m \u001b[1;32mdef\u001b[0m \u001b[0mctx\u001b[0m\u001b[1;33m(\u001b[0m\u001b[0mlst\u001b[0m\u001b[1;33m)\u001b[0m\u001b[1;33m:\u001b[0m\u001b[1;33m\u001b[0m\u001b[0m\n\u001b[1;32m----> 4\u001b[1;33m     \u001b[1;32mreturn\u001b[0m\u001b[1;33m(\u001b[0m\u001b[0mcount\u001b[0m\u001b[1;33m(\u001b[0m\u001b[0mlst\u001b[0m\u001b[1;33m)\u001b[0m\u001b[1;33m)\u001b[0m\u001b[1;33m\u001b[0m\u001b[0m\n\u001b[0m\u001b[0;32m      5\u001b[0m \u001b[1;33m\u001b[0m\u001b[0m\n\u001b[0;32m      6\u001b[0m \u001b[0msr\u001b[0m \u001b[1;33m=\u001b[0m \u001b[1;32mlambda\u001b[0m \u001b[0mx\u001b[0m\u001b[1;33m:\u001b[0m \u001b[0msorted\u001b[0m\u001b[1;33m(\u001b[0m\u001b[0mx\u001b[0m\u001b[1;33m)\u001b[0m\u001b[1;33m\u001b[0m\u001b[0m\n",
      "\u001b[1;31mNameError\u001b[0m: name 'count' is not defined"
     ]
    }
   ],
   "source": [
    "ct = lambda x: x.count\n",
    "\n",
    "def ctx(lst):\n",
    "    return(count(lst))\n",
    "\n",
    "sr = lambda x: sorted(x)\n",
    "\n",
    "def srx(lst):\n",
    "    return(sorted(lst))\n",
    "\n",
    "dict1 = {'count': ct , 'sort': sr , 'sortdef': srx, 'counter': ctx}\n",
    "arr1 = [1,6,3,2,5]\n",
    "#print(sorted(arr1))\n",
    "\n",
    "#dict1['sort'](arr1)\n",
    "\n",
    "def arr1map(map, choice, arr):\n",
    "    return map[choice](arr)\n",
    "\n",
    "print(arr1map(dict1, 'counter', arr1))"
   ]
  },
  {
   "cell_type": "markdown",
   "metadata": {},
   "source": [
    "** Lets see what is a Tuple? **<br/>\n",
    "A tuple is a sequence of immutable Python objects"
   ]
  },
  {
   "cell_type": "code",
   "execution_count": 100,
   "metadata": {},
   "outputs": [
    {
     "name": "stdout",
     "output_type": "stream",
     "text": [
      "(1, 2, 3, 4)\n",
      "[4, 5, 6] (1, 2, 3, [4, 5, 6])\n",
      "[1, 1] (1, 2, 3, [4, 5, 6])\n"
     ]
    }
   ],
   "source": [
    "a = (1,2,3,4)\n",
    "print(a)\n",
    "\n",
    "x=[4,5,6]\n",
    "b=(1,2,3,x)\n",
    "print(x,b)\n",
    "x=[1,1] #If tuple contains a list or such an object, it actually holds the address of it. \n",
    "#So the contained list object can have its contents changed, like above, but the address stored in tuple cannot change\n",
    "b\n",
    "print(x,b)\n",
    "#b[3] = [6,6] #Individual item in tuple cannot be mutated\n",
    "b=('ab',3,4) #But tuple as a whole can be reassigned to a value\n",
    "\n",
    "\n",
    "# Immutable, please read, try and tell me what do you understand\n",
    "#a[0]=10\n",
    "#print(hex(id(a)))  # Address of the variable\n",
    "#a = a + (10,)\n",
    "#print(hex(id(a)))"
   ]
  },
  {
   "cell_type": "markdown",
   "metadata": {},
   "source": [
    "**Data type conversion**\n",
    "\n",
    "+ Data from one type can be converted into another type using <b>conversion operators</b>.\n",
    "+ Comes in handy when data is not coded in proper format (number coded as string, date coded as string)\n",
    "+ <b>int(variable)</b> - converts variable to integer \n",
    "+ <b>str(variable)</b> - converts variable to string \n",
    "+ <b>float(variable)</b> - converts variable to float (number with decimal) \n"
   ]
  },
  {
   "cell_type": "markdown",
   "metadata": {},
   "source": [
    "**Operators**\n",
    "\n",
    "+ \\+ (plus) : Adds two objects \n",
    "+ \\- (minus) Gives the subtraction of one number from the other; if the first operand is absent it is assumed to be zero.\n",
    "+ \\* (multiply) Gives the multiplication of the two numbers or returns the string repeated that many times.\n",
    "+ ** (power) Returns x to the power of y\n",
    "+ / (divide) Divide x by y\n",
    "+ // (floor division) Returns the floor of the quotient\n",
    "+ % (modulo) Returns the remainder of the division\n",
    "+ < (less than) Returns whether x is less than y. All comparison operators return True or False. Note the capitalization of these names.\n",
    "+ \\> (greater than) Returns whether x is greater than y\n",
    "+ <= (less than or equal to) Returns whether x is less than or equal to y\n",
    "+ \\>= (greater than or equal to) Returns whether x is greater than or equal to y\n",
    "+ == (equal to) Compares if the objects are equal\n",
    "+ != (not equal to) Compares if the objects are not equal\n",
    "+ not (boolean NOT) If x is True, it returns False. If x is False, it returns True.\n",
    "+ and (boolean AND) x and y returns False if x is False, else it returns evaluation of y\n",
    "+ or (boolean OR) If x is True, it returns True, else it returns evaluation of y"
   ]
  },
  {
   "cell_type": "code",
   "execution_count": 101,
   "metadata": {},
   "outputs": [
    {
     "name": "stdout",
     "output_type": "stream",
     "text": [
      "1 True\n",
      "2 False\n",
      "3 True\n",
      "4 False\n",
      "5 True\n",
      "6 True\n",
      "7 False\n",
      "8 True\n",
      "9 False\n"
     ]
    }
   ],
   "source": [
    "a = 6\n",
    "b = 7\n",
    "c = 42\n",
    "print (1, a == 6)\n",
    "print (2, a == 7)\n",
    "print (3, a == 6 and b == 7)\n",
    "print (4, a == 7 and b == 7)\n",
    "print (5, not a == 7 and b == 7)\n",
    "print (6, a == 7 or b == 7)\n",
    "print (7, a == 7 or b == 6)\n",
    "print (8, not (a == 7 and b == 6))\n",
    "print (9, not a == 7 and b == 6)\n"
   ]
  },
  {
   "cell_type": "markdown",
   "metadata": {},
   "source": [
    "**Conditional Statements**\n",
    "\n",
    "**If-statement**\n",
    "\n",
    "The <b>if</b> statement is used to check a condition: if the condition is true, we run a block of statements (called the if-block), else we process another block of statements (called the else-block). The <b>else clause is optional</b>."
   ]
  },
  {
   "cell_type": "code",
   "execution_count": 102,
   "metadata": {},
   "outputs": [
    {
     "name": "stdout",
     "output_type": "stream",
     "text": [
      "else\n"
     ]
    }
   ],
   "source": [
    "a = 20\n",
    "if a >= 22:\n",
    "   print(\"if\")\n",
    "elif a >= 21:\n",
    "   print(\"elif\")\n",
    "else:\n",
    "   print(\"else\")\n"
   ]
  },
  {
   "cell_type": "code",
   "execution_count": 103,
   "metadata": {},
   "outputs": [
    {
     "name": "stdout",
     "output_type": "stream",
     "text": [
      "Found Vijay\n"
     ]
    }
   ],
   "source": [
    "#Testing for an element in list\n",
    "list = ['Ajay', 'Vijay', 'Ramesh']\n",
    "if 'Vijay' in list:\n",
    "    print ('Found Vijay')"
   ]
  },
  {
   "cell_type": "markdown",
   "metadata": {},
   "source": [
    "**While-statement**\n",
    "\n",
    "The while statement allows you to <b>repeatedly execute</b> a block of statements as long as a condition is true. A while statement is an example of what is called a looping statement. A while statement can have an optional else clause."
   ]
  },
  {
   "cell_type": "code",
   "execution_count": 104,
   "metadata": {},
   "outputs": [
    {
     "name": "stdout",
     "output_type": "stream",
     "text": [
      "The count is: 0\n",
      "The count is: 1\n",
      "The count is: 2\n",
      "The count is: 3\n",
      "The count is: 4\n",
      "The count is: 5\n",
      "The count is: 6\n",
      "The count is: 7\n",
      "The count is: 8\n",
      "End of while loop!\n"
     ]
    }
   ],
   "source": [
    "count = 0\n",
    "while (count < 9):\n",
    "   print ('The count is:', count)\n",
    "   count = count + 1\n",
    "\n",
    "print (\"End of while loop!\")\n"
   ]
  },
  {
   "cell_type": "markdown",
   "metadata": {},
   "source": [
    "**For-statement**\n",
    "\n",
    "The for..in statement is another looping statement which iterates over a sequence of objects i.e. go through each item in a sequence. A sequence is just an ordered collection of items."
   ]
  },
  {
   "cell_type": "code",
   "execution_count": 105,
   "metadata": {},
   "outputs": [
    {
     "name": "stdout",
     "output_type": "stream",
     "text": [
      "1\n"
     ]
    }
   ],
   "source": [
    "for i in range(1,5,2): #Range from 1 to 5 incremented by 2\n",
    "    print (i)\n",
    "    break\n",
    "else:\n",
    "   print (\"The for loop is over\")"
   ]
  },
  {
   "cell_type": "code",
   "execution_count": 106,
   "metadata": {},
   "outputs": [
    {
     "name": "stdout",
     "output_type": "stream",
     "text": [
      "10\n"
     ]
    }
   ],
   "source": [
    "# Traversing a list\n",
    "# Guess What is the output\n",
    "numbers = [2, 3, 5]\n",
    "sum = 0\n",
    "for num in numbers:\n",
    "    sum += num\n",
    "print (sum)"
   ]
  },
  {
   "cell_type": "code",
   "execution_count": null,
   "metadata": {},
   "outputs": [],
   "source": [
    "numbers = [2, 3, 5]\n",
    "getsum = [ i+2 for i in numbers ]\n",
    "print (getsum)"
   ]
  },
  {
   "cell_type": "code",
   "execution_count": 113,
   "metadata": {},
   "outputs": [
    {
     "name": "stdout",
     "output_type": "stream",
     "text": [
      "[4, 5]\n",
      "[16, 25, 36, 49, 64, 81, 100]\n"
     ]
    },
    {
     "data": {
      "text/plain": [
       "set"
      ]
     },
     "execution_count": 113,
     "metadata": {},
     "output_type": "execute_result"
    }
   ],
   "source": [
    "numbers = [2, 3, 5]\n",
    "getnum = [ i+2 for i in numbers if i<5]\n",
    "print (getnum)\n",
    "\n",
    "lm1 = lambda g: g**2\n",
    "lm2 = lambda h: h+2>5\n",
    "lm3 = {lambda h: h+2>5}\n",
    "getnumbers = [3,4,5,6,7,8,9,10]\n",
    "getnumber = [lm1(i) for i in getnumbers if lm2(i)]\n",
    "print(getnumber)\n",
    "type(lm3)"
   ]
  },
  {
   "cell_type": "markdown",
   "metadata": {},
   "source": [
    "**Break statement**\n",
    "\n",
    "The break statement is used to break out of a loop statement i.e. stop the execution of a looping statement, even if the loop condition has not become False or the sequence of items has not been completely iterated over.\n",
    "\n",
    "An important note is that if you break out of a for or while loop, any corresponding loop else block is not executed."
   ]
  },
  {
   "cell_type": "code",
   "execution_count": 114,
   "metadata": {},
   "outputs": [
    {
     "name": "stdout",
     "output_type": "stream",
     "text": [
      "1\n",
      "2\n",
      "3\n",
      "4\n",
      "Done\n"
     ]
    }
   ],
   "source": [
    "for i in range(1,10):\n",
    "       if i == 5:\n",
    "           break\n",
    "       print (i)\n",
    "print('Done')"
   ]
  },
  {
   "cell_type": "code",
   "execution_count": null,
   "metadata": {},
   "outputs": [],
   "source": [
    "#Exercise time\n"
   ]
  },
  {
   "cell_type": "markdown",
   "metadata": {},
   "source": [
    "**Exercise**\n"
   ]
  },
  {
   "cell_type": "markdown",
   "metadata": {},
   "source": [
    "**Closing and Opening Files**\n",
    "\n",
    "+ Python, along with associated packages, supports a number of formats for file reading and writing. \n",
    "+ The file types supported are txt, csv, xls, xlsx, doc, docx, dat, output, sql (and some specialized formats such as R, .dta, sas7bdat)\n",
    "+ Here, we will cover some of the options and will look at the rest in session on pandas.\n",
    "+ In order to open a file, use open() method specifying file name and mode of opening (read, write, append, etc)\n",
    "+ Open returns a file handle \n",
    "+ handle = open(filename, mode)\n",
    "+ Once work is done, it is always better to close the file otherwise other programs might not be able to access the file.\n",
    "+ File closing is done using close() method\n"
   ]
  },
  {
   "cell_type": "code",
   "execution_count": 115,
   "metadata": {},
   "outputs": [
    {
     "name": "stdout",
     "output_type": "stream",
     "text": [
      "\n",
      "00195710 880211 -0.012605 0.003871\n",
      "\n",
      "00195710 880212 -0.008511 0.007406\n",
      "\n",
      "00195710 880216 0.008584 0.001411\n",
      "\n",
      "00195710 880217 -0.004255 0.002414\n",
      "\n",
      "00195710 880218 0 0.002845\n",
      "\n",
      "00195710 880219 0.008547 0.004753\n",
      "\n",
      "00195710 880222 0.012712 0.006375\n",
      "\n",
      "00195710 880223 -0.008368 0.001864\n",
      "\n",
      "00195710 880224 -0.008439 0.004237\n",
      "\n",
      "00195710 880225 -0.004255 0.005164\n",
      "\n",
      "00195710 880226 -0.008547 0.001747\n",
      "\n",
      "00195710 880229 0.012931 0.011278\n",
      "\n",
      "00195710 880301 -0.008511 0.001305\n",
      "\n",
      "00195710 880302 0.008584 0.005652\n",
      "\n",
      "00195710 880303 -0.017021 0.002895\n",
      "\n",
      "00195710 880304 0.004329 0.004586\n",
      "\n",
      "00195710 880307 -0.017241 0.00374\n",
      "\n",
      "00195710 880308 -0.008772 0.006258\n",
      "\n",
      "00195710 880309 0.00885 0.008291\n",
      "\n",
      "00195710 880310 -0.008772 -0.004363\n",
      "\n",
      "00195710 880311 -0.00885 0.000796\n",
      "\n",
      "00195710 880314 0.013393 0.002721\n",
      "\n",
      "00195710 880315 0.008811 0.001341\n",
      "\n",
      "00195710 880316 0.004367 0.004319\n",
      "\n",
      "00195710 880317 0.008696 0.005612\n",
      "\n",
      "00195710 880318 -0.008621 0.003249\n",
      "\n",
      "00195710 880321 -0.004348 -0.004265\n",
      "\n",
      "00195710 880322 -0.008734 0.00276\n",
      "\n",
      "00195710 880323 -0.004405 0.003259\n",
      "\n",
      "00195710 880324 -0.017699 -0.006748\n",
      "\n",
      "00195710 880325 -0.011712 -0.006075\n",
      "\n",
      "00195710 880328 -0.013825 -0.006236\n",
      "\n",
      "00195710 880329 0.004673 0.006625\n",
      "\n",
      "00195710 880330 -0.013953 -0.001708\n",
      "\n",
      "00195710 880331 0.018868 0.007634\n",
      "\n",
      "00195710 880404 -0.013889 -0.005177\n",
      "\n",
      "00195710 880405 0.00939 0.002342\n",
      "\n",
      "00195710 880406 0.046512 0.007862\n",
      "\n",
      "00195710 880407 -0.004444 0.003649\n",
      "\n",
      "00195710 880408 0.004464 0.008284\n",
      "\n",
      "00195710 880411 -0.008889 0.000455\n",
      "\n",
      "00195710 880412 0.008969 0.004093\n",
      "\n",
      "00195710 880413 -0.004444 0.000273\n",
      "\n",
      "00195710 880414 -0.049107 -0.017634\n",
      "\n",
      "00195710 880415 0 -0.001734\n",
      "\n",
      "00195710 880418 -0.00939 0.002671\n",
      "\n",
      "00195710 880419 0.004739 0.004033\n",
      "\n",
      "00195710 880420 0 -0.004894\n",
      "\n",
      "00195710 880421 0.004717 -0.000031\n",
      "\n",
      "00195710 880422 0.018779 0.003857\n",
      "\n",
      "00195710 880425 0.004608 0.002482\n",
      "\n",
      "00195710 880426 -0.018349 0.004963\n",
      "\n",
      "00195710 880427 -0.004673 0.002056\n",
      "\n",
      "00195710 880428 -0.00939 0.001157\n",
      "\n",
      "00195710 880429 0.004739 0.003796\n",
      "\n",
      "00195710 880502 0 -0.001114\n",
      "\n",
      "00195710 880503 0.018868 0.002655\n",
      "\n",
      "00195710 880504 -0.023148 -0.000176\n",
      "\n",
      "00195710 880505 -0.009479 -0.001624\n",
      "\n",
      "00195710 880506 -0.004785 0.000376\n",
      "\n",
      "00195710 880509 0.014423 -0.005489\n",
      "\n",
      "00195710 880510 0.028436 0.000986\n",
      "\n",
      "00195710 880511 -0.009217 -0.012381\n",
      "\n",
      "00195710 880512 0.018605 0.002235\n",
      "\n",
      "00195710 880513 -0.004566 0.005115\n",
      "\n",
      "00195710 880516 0 0.000834\n",
      "\n",
      "00195710 880517 -0.027523 -0.001624\n",
      "\n",
      "00195710 880518 -0.018868 -0.010956\n",
      "\n",
      "00195710 880519 0.024038 -0.001865\n",
      "\n",
      "00195710 880520 0.004695 0.003239\n",
      "\n",
      "00195710 880523 -0.014019 -0.003542\n",
      "\n",
      "00195710 880524 0.004739 0.0017\n",
      "\n",
      "00195710 880525 -0.014151 0.001598\n",
      "\n",
      "00282410 880225 -0.00495 0.005164\n",
      "\n",
      "00282410 880226 -0.007463 0.001747\n",
      "\n",
      "00282410 880229 0.042607 0.011278\n",
      "\n",
      "00282410 880301 -0.004808 0.001305\n",
      "\n",
      "00282410 880302 -0.002415 0.005652\n",
      "\n",
      "00282410 880303 0.002421 0.002895\n",
      "\n",
      "00282410 880304 -0.002415 0.004586\n",
      "\n",
      "00282410 880307 -0.002421 0.00374\n",
      "\n",
      "00282410 880308 -0.024272 0.006258\n",
      "\n",
      "00282410 880309 0 0.008291\n",
      "\n",
      "00282410 880310 -0.0199 -0.004363\n",
      "\n",
      "00282410 880311 -0.025381 0.000796\n",
      "\n",
      "00282410 880314 0.010417 0.002721\n",
      "\n",
      "00282410 880315 0.002577 0.001341\n",
      "\n",
      "00282410 880316 -0.002571 0.004319\n",
      "\n",
      "00282410 880317 0.018041 0.005612\n",
      "\n",
      "00282410 880318 0.017722 0.003249\n",
      "\n",
      "00282410 880321 -0.00995 -0.004265\n",
      "\n",
      "00282410 880322 -0.01005 0.00276\n",
      "\n",
      "00282410 880323 -0.017766 0.003259\n",
      "\n",
      "00282410 880324 -0.010336 -0.006748\n",
      "\n",
      "00282410 880325 -0.031332 -0.006075\n",
      "\n",
      "00282410 880328 0.002695 -0.006236\n",
      "\n",
      "00282410 880329 0.010753 0.006625\n",
      "\n",
      "00282410 880330 -0.00266 -0.001708\n",
      "\n",
      "00282410 880331 0 0.007634\n",
      "\n",
      "00282410 880404 -0.013333 -0.005177\n",
      "\n",
      "00282410 880405 0.013514 0.002342\n",
      "\n",
      "00282410 880406 0.016 0.007862\n",
      "\n",
      "00282410 880407 0.026247 0.003649\n",
      "\n",
      "00282410 880408 0.033248 0.008284\n",
      "\n",
      "00282410 880411 -0.001485 0.000455\n",
      "\n",
      "00282410 880412 0.004988 0.004093\n",
      "\n",
      "00282410 880413 -0.002481 0.000273\n",
      "\n",
      "00282410 880414 -0.039801 -0.017634\n",
      "\n",
      "00282410 880415 -0.010363 -0.001734\n",
      "\n",
      "00282410 880418 -0.005236 0.002671\n",
      "\n",
      "00282410 880419 -0.021053 0.004033\n",
      "\n",
      "00282410 880420 -0.013441 -0.004894\n",
      "\n",
      "00282410 880421 -0.013624 -0.000031\n",
      "\n",
      "00282410 880422 0.022099 0.003857\n",
      "\n",
      "00282410 880425 0.024324 0.002482\n",
      "\n",
      "00282410 880426 0.01847 0.004963\n",
      "\n",
      "00282410 880427 -0.023316 0.002056\n",
      "\n",
      "00282410 880428 -0.013263 0.001157\n",
      "\n",
      "00282410 880429 -0.018817 0.003796\n",
      "\n",
      "00282410 880502 0.013699 -0.001114\n",
      "\n",
      "00282410 880503 -0.005405 0.002655\n",
      "\n",
      "00282410 880504 -0.008152 -0.000176\n",
      "\n",
      "00282410 880505 -0.010959 -0.001624\n",
      "\n",
      "00282410 880506 -0.019391 0.000376\n",
      "\n",
      "00282410 880509 0.008475 -0.005489\n",
      "\n",
      "00282410 880510 -0.014006 0.000986\n",
      "\n",
      "00282410 880511 -0.019886 -0.012381\n",
      "\n",
      "00282410 880512 -0.002899 0.002235\n",
      "\n",
      "00282410 880513 0.017442 0.005115\n",
      "\n",
      "00282410 880516 0.028571 0.000834\n",
      "\n",
      "00282410 880517 -0.011111 -0.001624\n",
      "\n",
      "00282410 880518 -0.019663 -0.010956\n",
      "\n",
      "00282410 880519 -0.002865 -0.001865\n",
      "\n",
      "00282410 880520 0.005747 0.003239\n",
      "\n",
      "00282410 880523 -0.014286 -0.003542\n",
      "\n",
      "00282410 880524 0.014493 0.0017\n",
      "\n",
      "00282410 880525 0.008571 0.001598\n",
      "\n",
      "00282410 880526 0.031161 0.003151\n",
      "\n",
      "00282410 880527 -0.008242 -0.000359\n",
      "\n",
      "00282410 880531 0.027701 0.006501\n",
      "\n",
      "00790310 880225 -0.020408 0.005164\n",
      "\n",
      "00790310 880226 -0.010417 0.001747\n",
      "\n",
      "00790310 880229 0.010526 0.011278\n",
      "\n",
      "00790310 880301 -0.020833 0.001305\n",
      "\n",
      "00790310 880302 0.053191 0.005652\n",
      "\n",
      "00790310 880303 0 0.002895\n",
      "\n",
      "00790310 880304 -0.020202 0.004586\n",
      "\n",
      "00790310 880307 0.041237 0.00374\n",
      "\n",
      "00790310 880308 0.039604 0.006258\n",
      "\n",
      "00790310 880309 0.009524 0.008291\n",
      "\n",
      "00790310 880310 -0.04717 -0.004363\n",
      "\n",
      "00790310 880311 -0.009901 0.000796\n",
      "\n",
      "00790310 880314 0 0.002721\n",
      "\n",
      "00790310 880315 0.01 0.001341\n",
      "\n",
      "00790310 880316 -0.029703 0.004319\n",
      "\n",
      "00790310 880317 0.010204 0.005612\n",
      "\n",
      "00790310 880318 0.010101 0.003249\n",
      "\n",
      "00790310 880321 -0.03 -0.004265\n",
      "\n",
      "00790310 880322 0.030928 0.00276\n",
      "\n",
      "00790310 880323 -0.02 0.003259\n",
      "\n",
      "00790310 880324 -0.030612 -0.006748\n",
      "\n",
      "00790310 880325 -0.052632 -0.006075\n",
      "\n",
      "00790310 880328 -0.011111 -0.006236\n",
      "\n",
      "00790310 880329 0.022472 0.006625\n",
      "\n",
      "00790310 880330 -0.032967 -0.001708\n",
      "\n",
      "00790310 880331 0 0.007634\n",
      "\n",
      "00790310 880404 0.011364 -0.005177\n",
      "\n",
      "00790310 880405 0.022472 0.002342\n",
      "\n",
      "00790310 880406 0.054945 0.007862\n",
      "\n",
      "00790310 880407 0.041667 0.003649\n",
      "\n",
      "00790310 880408 0.07 0.008284\n",
      "\n",
      "00790310 880411 0.028037 0.000455\n",
      "\n",
      "00790310 880412 -0.009091 0.004093\n",
      "\n",
      "00790310 880413 -0.018349 0.000273\n",
      "\n",
      "00790310 880414 -0.056075 -0.017634\n",
      "\n",
      "00790310 880415 -0.009901 -0.001734\n",
      "\n",
      "00790310 880418 0.03 0.002671\n",
      "\n",
      "00790310 880419 -0.019417 0.004033\n",
      "\n",
      "00790310 880420 -0.009901 -0.004894\n",
      "\n",
      "00790310 880421 0 -0.000031\n",
      "\n",
      "00790310 880422 0.05 0.003857\n",
      "\n",
      "00790310 880425 0.028571 0.002482\n",
      "\n",
      "00790310 880426 0.018519 0.004963\n",
      "\n",
      "00790310 880427 0.036364 0.002056\n",
      "\n",
      "00790310 880428 0.017544 0.001157\n",
      "\n",
      "00790310 880429 -0.008621 0.003796\n",
      "\n",
      "00790310 880502 0 -0.001114\n",
      "\n",
      "00790310 880503 -0.008696 0.002655\n",
      "\n",
      "00790310 880504 0.017544 -0.000176\n",
      "\n",
      "00790310 880505 0 -0.001624\n",
      "\n",
      "00790310 880506 -0.017241 0.000376\n",
      "\n",
      "00790310 880509 -0.04386 -0.005489\n",
      "\n",
      "00790310 880510 0.018349 0.000986\n",
      "\n",
      "00790310 880511 0 -0.012381\n",
      "\n",
      "00790310 880512 0.045045 0.002235\n",
      "\n",
      "00790310 880513 0.034483 0.005115\n",
      "\n",
      "00790310 880516 0 0.000834\n",
      "\n",
      "00790310 880517 -0.016667 -0.001624\n",
      "\n",
      "00790310 880518 -0.033898 -0.010956\n",
      "\n",
      "00790310 880519 0.04386 -0.001865\n",
      "\n",
      "00790310 880520 -0.016807 0.003239\n",
      "\n",
      "00790310 880523 -0.034188 -0.003542\n",
      "\n",
      "00790310 880524 0.026549 0.0017\n",
      "\n",
      "00790310 880525 -0.008621 0.001598\n",
      "\n",
      "00790310 880526 -0.008696 0.003151\n",
      "\n",
      "00790310 880527 0 -0.000359\n",
      "\n",
      "00790310 880531 0.052632 0.006501\n",
      "\n",
      "00811710 880225 -0.036458 0.005164\n",
      "\n",
      "00811710 880226 0.010811 0.001747\n",
      "\n",
      "00811710 880229 0.018717 0.011278\n",
      "\n",
      "00811710 880301 0 0.001305\n",
      "\n",
      "00811710 880302 0.002625 0.005652\n",
      "\n",
      "00811710 880303 0.005236 0.002895\n",
      "\n",
      "00811710 880304 -0.007813 0.004586\n",
      "\n",
      "00811710 880307 0.002625 0.00374\n",
      "\n",
      "00811710 880308 0 0.006258\n",
      "\n",
      "00811710 880309 -0.010471 0.008291\n",
      "\n",
      "00811710 880310 -0.010582 -0.004363\n",
      "\n",
      "00811710 880311 -0.002674 0.000796\n",
      "\n",
      "00811710 880314 -0.008043 0.002721\n",
      "\n",
      "00811710 880315 0 0.001341\n",
      "\n",
      "00811710 880316 0 0.004319\n",
      "\n",
      "00811710 880317 -0.010811 0.005612\n",
      "\n",
      "00811710 880318 -0.008197 0.003249\n",
      "\n",
      "00811710 880321 -0.002755 -0.004265\n",
      "\n",
      "00811710 880322 -0.005525 0.00276\n",
      "\n",
      "00811710 880323 -0.005556 0.003259\n",
      "\n",
      "00811710 880324 -0.013966 -0.006748\n",
      "\n",
      "00811710 880325 -0.002833 -0.006075\n",
      "\n",
      "00811710 880328 -0.017045 -0.006236\n",
      "\n",
      "00811710 880329 0.00578 0.006625\n",
      "\n",
      "00811710 880330 -0.014368 -0.001708\n",
      "\n",
      "00811710 880331 0.023324 0.007634\n",
      "\n",
      "00811710 880404 -0.008547 -0.005177\n",
      "\n",
      "00811710 880405 0.031609 0.002342\n",
      "\n",
      "00811710 880406 -0.011142 0.007862\n",
      "\n",
      "00811710 880407 -0.016901 0.003649\n",
      "\n",
      "00811710 880408 0.014327 0.008284\n",
      "\n",
      "00811710 880411 0.00565 0.000455\n",
      "\n",
      "00811710 880412 0.016854 0.004093\n",
      "\n",
      "00811710 880413 0.002762 0.000273\n",
      "\n",
      "00811710 880414 -0.044077 -0.017634\n",
      "\n",
      "00811710 880415 -0.020173 -0.001734\n",
      "\n",
      "00811710 880418 0.002941 0.002671\n",
      "\n",
      "00811710 880419 -0.005865 0.004033\n",
      "\n",
      "00811710 880420 0.00295 -0.004894\n",
      "\n",
      "00811710 880421 0.002941 -0.000031\n",
      "\n",
      "00811710 880422 0.002933 0.003857\n",
      "\n",
      "00811710 880425 0.013216 0.002482\n",
      "\n",
      "00811710 880426 0.017595 0.004963\n",
      "\n",
      "00811710 880427 -0.014409 0.002056\n",
      "\n",
      "00811710 880428 0.008772 0.001157\n",
      "\n",
      "00811710 880429 -0.026087 0.003796\n",
      "\n",
      "00811710 880502 -0.008929 -0.001114\n",
      "\n",
      "00811710 880503 -0.006006 0.002655\n",
      "\n",
      "00811710 880504 0.003021 -0.000176\n",
      "\n",
      "00811710 880505 -0.003012 -0.001624\n",
      "\n",
      "00811710 880506 -0.018127 0.000376\n",
      "\n",
      "00811710 880509 -0.003077 -0.005489\n",
      "\n",
      "00811710 880510 -0.006173 0.000986\n",
      "\n",
      "00811710 880511 -0.012422 -0.012381\n",
      "\n",
      "00811710 880512 0.009434 0.002235\n",
      "\n",
      "00811710 880513 0.012461 0.005115\n",
      "\n",
      "00811710 880516 0.003077 0.000834\n",
      "\n",
      "00811710 880517 -0.018405 -0.001624\n",
      "\n",
      "00811710 880518 0.003125 -0.010956\n",
      "\n",
      "00811710 880519 0.006231 -0.001865\n",
      "\n",
      "00811710 880520 0.012384 0.003239\n",
      "\n",
      "00811710 880523 -0.003058 -0.003542\n",
      "\n",
      "00811710 880524 0.02454 0.0017\n",
      "\n",
      "00811710 880525 0.008982 0.001598\n",
      "\n",
      "00811710 880526 0 0.003151\n",
      "\n",
      "00811710 880527 0.002967 -0.000359\n",
      "\n",
      "00811710 880531 0.038462 0.006501\n",
      "\n"
     ]
    }
   ],
   "source": [
    "print(your_local_path)\n",
    "#f = open(your_local_path+'file1.txt', 'r')\n",
    "f = open(your_local_path+'capm_dem.txt', 'r')\n",
    "for line in f:   \n",
    "    print (line)                       \n",
    "f.close()"
   ]
  },
  {
   "cell_type": "code",
   "execution_count": 150,
   "metadata": {},
   "outputs": [
    {
     "ename": "UnsupportedOperation",
     "evalue": "can't do nonzero end-relative seeks",
     "output_type": "error",
     "traceback": [
      "\u001b[1;31m---------------------------------------------------------------------------\u001b[0m",
      "\u001b[1;31mUnsupportedOperation\u001b[0m                      Traceback (most recent call last)",
      "\u001b[1;32m<ipython-input-150-e356c950a8ca>\u001b[0m in \u001b[0;36m<module>\u001b[1;34m()\u001b[0m\n\u001b[0;32m      2\u001b[0m \u001b[0mf\u001b[0m\u001b[1;33m.\u001b[0m\u001b[0mseek\u001b[0m\u001b[1;33m(\u001b[0m\u001b[1;36m10\u001b[0m\u001b[1;33m,\u001b[0m\u001b[1;36m0\u001b[0m\u001b[1;33m)\u001b[0m\u001b[1;33m\u001b[0m\u001b[0m\n\u001b[0;32m      3\u001b[0m \u001b[0mf\u001b[0m\u001b[1;33m.\u001b[0m\u001b[0mread\u001b[0m\u001b[1;33m(\u001b[0m\u001b[1;33m)\u001b[0m\u001b[1;33m\u001b[0m\u001b[0m\n\u001b[1;32m----> 4\u001b[1;33m \u001b[0mf\u001b[0m\u001b[1;33m.\u001b[0m\u001b[0mseek\u001b[0m\u001b[1;33m(\u001b[0m\u001b[1;33m-\u001b[0m\u001b[1;36m3\u001b[0m\u001b[1;33m,\u001b[0m\u001b[1;36m2\u001b[0m\u001b[1;33m)\u001b[0m\u001b[1;33m\u001b[0m\u001b[0m\n\u001b[0m\u001b[0;32m      5\u001b[0m \u001b[0mf\u001b[0m\u001b[1;33m.\u001b[0m\u001b[0mread\u001b[0m\u001b[1;33m(\u001b[0m\u001b[1;33m)\u001b[0m\u001b[1;33m\u001b[0m\u001b[0m\n",
      "\u001b[1;31mUnsupportedOperation\u001b[0m: can't do nonzero end-relative seeks"
     ]
    }
   ],
   "source": [
    "f = open(your_local_path+'testfile.txt', 'r')\n",
    "f.seek(10,0)\n",
    "f.read()\n",
    "f.seek(-3,2)\n",
    "f.read()"
   ]
  },
  {
   "cell_type": "code",
   "execution_count": 116,
   "metadata": {},
   "outputs": [
    {
     "name": "stdout",
     "output_type": "stream",
     "text": [
      "Content is  00195710 880211 -0.012605 0.003871\n",
      "00195710 880212 -0.008511 0.007406\n",
      "00195710 880216 0.008584 0.001411\n",
      "00195710 880217 -0.004255 0.002414\n",
      "00195710 880218 0 0.002845\n",
      "00195710 880219 0.008547 0.004753\n",
      "00195710 880222 0.012712 0.006375\n",
      "00195710 880223 -0.008368 0.001864\n",
      "00195710 880224 -0.008439 0.004237\n",
      "00195710 880225 -0.004255 0.005164\n",
      "00195710 880226 -0.008547 0.001747\n",
      "00195710 880229 0.012931 0.011278\n",
      "00195710 880301 -0.008511 0.001305\n",
      "00195710 880302 0.008584 0.005652\n",
      "00195710 880303 -0.017021 0.002895\n",
      "00195710 880304 0.004329 0.004586\n",
      "00195710 880307 -0.017241 0.00374\n",
      "00195710 880308 -0.008772 0.006258\n",
      "00195710 880309 0.00885 0.008291\n",
      "00195710 880310 -0.008772 -0.004363\n",
      "00195710 880311 -0.00885 0.000796\n",
      "00195710 880314 0.013393 0.002721\n",
      "00195710 880315 0.008811 0.001341\n",
      "00195710 880316 0.004367 0.004319\n",
      "00195710 880317 0.008696 0.005612\n",
      "00195710 880318 -0.008621 0.003249\n",
      "00195710 880321 -0.004348 -0.004265\n",
      "00195710 880322 -0.008734 0.00276\n",
      "00195710 880323 -0.004405 0.003259\n",
      "00195710 880324 -0.017699 -0.006748\n",
      "00195710 880325 -0.011712 -0.006075\n",
      "00195710 880328 -0.013825 -0.006236\n",
      "00195710 880329 0.004673 0.006625\n",
      "00195710 880330 -0.013953 -0.001708\n",
      "00195710 880331 0.018868 0.007634\n",
      "00195710 880404 -0.013889 -0.005177\n",
      "00195710 880405 0.00939 0.002342\n",
      "00195710 880406 0.046512 0.007862\n",
      "00195710 880407 -0.004444 0.003649\n",
      "00195710 880408 0.004464 0.008284\n",
      "00195710 880411 -0.008889 0.000455\n",
      "00195710 880412 0.008969 0.004093\n",
      "00195710 880413 -0.004444 0.000273\n",
      "00195710 880414 -0.049107 -0.017634\n",
      "00195710 880415 0 -0.001734\n",
      "00195710 880418 -0.00939 0.002671\n",
      "00195710 880419 0.004739 0.004033\n",
      "00195710 880420 0 -0.004894\n",
      "00195710 880421 0.004717 -0.000031\n",
      "00195710 880422 0.018779 0.003857\n",
      "00195710 880425 0.004608 0.002482\n",
      "00195710 880426 -0.018349 0.004963\n",
      "00195710 880427 -0.004673 0.002056\n",
      "00195710 880428 -0.00939 0.001157\n",
      "00195710 880429 0.004739 0.003796\n",
      "00195710 880502 0 -0.001114\n",
      "00195710 880503 0.018868 0.002655\n",
      "00195710 880504 -0.023148 -0.000176\n",
      "00195710 880505 -0.009479 -0.001624\n",
      "00195710 880506 -0.004785 0.000376\n",
      "00195710 880509 0.014423 -0.005489\n",
      "00195710 880510 0.028436 0.000986\n",
      "00195710 880511 -0.009217 -0.012381\n",
      "00195710 880512 0.018605 0.002235\n",
      "00195710 880513 -0.004566 0.005115\n",
      "00195710 880516 0 0.000834\n",
      "00195710 880517 -0.027523 -0.001624\n",
      "00195710 880518 -0.018868 -0.010956\n",
      "00195710 880519 0.024038 -0.001865\n",
      "00195710 880520 0.004695 0.003239\n",
      "00195710 880523 -0.014019 -0.003542\n",
      "00195710 880524 0.004739 0.0017\n",
      "00195710 880525 -0.014151 0.001598\n",
      "00282410 880225 -0.00495 0.005164\n",
      "00282410 880226 -0.007463 0.001747\n",
      "00282410 880229 0.042607 0.011278\n",
      "00282410 880301 -0.004808 0.001305\n",
      "00282410 880302 -0.002415 0.005652\n",
      "00282410 880303 0.002421 0.002895\n",
      "00282410 880304 -0.002415 0.004586\n",
      "00282410 880307 -0.002421 0.00374\n",
      "00282410 880308 -0.024272 0.006258\n",
      "00282410 880309 0 0.008291\n",
      "00282410 880310 -0.0199 -0.004363\n",
      "00282410 880311 -0.025381 0.000796\n",
      "00282410 880314 0.010417 0.002721\n",
      "00282410 880315 0.002577 0.001341\n",
      "00282410 880316 -0.002571 0.004319\n",
      "00282410 880317 0.018041 0.005612\n",
      "00282410 880318 0.017722 0.003249\n",
      "00282410 880321 -0.00995 -0.004265\n",
      "00282410 880322 -0.01005 0.00276\n",
      "00282410 880323 -0.017766 0.003259\n",
      "00282410 880324 -0.010336 -0.006748\n",
      "00282410 880325 -0.031332 -0.006075\n",
      "00282410 880328 0.002695 -0.006236\n",
      "00282410 880329 0.010753 0.006625\n",
      "00282410 880330 -0.00266 -0.001708\n",
      "00282410 880331 0 0.007634\n",
      "00282410 880404 -0.013333 -0.005177\n",
      "00282410 880405 0.013514 0.002342\n",
      "00282410 880406 0.016 0.007862\n",
      "00282410 880407 0.026247 0.003649\n",
      "00282410 880408 0.033248 0.008284\n",
      "00282410 880411 -0.001485 0.000455\n",
      "00282410 880412 0.004988 0.004093\n",
      "00282410 880413 -0.002481 0.000273\n",
      "00282410 880414 -0.039801 -0.017634\n",
      "00282410 880415 -0.010363 -0.001734\n",
      "00282410 880418 -0.005236 0.002671\n",
      "00282410 880419 -0.021053 0.004033\n",
      "00282410 880420 -0.013441 -0.004894\n",
      "00282410 880421 -0.013624 -0.000031\n",
      "00282410 880422 0.022099 0.003857\n",
      "00282410 880425 0.024324 0.002482\n",
      "00282410 880426 0.01847 0.004963\n",
      "00282410 880427 -0.023316 0.002056\n",
      "00282410 880428 -0.013263 0.001157\n",
      "00282410 880429 -0.018817 0.003796\n",
      "00282410 880502 0.013699 -0.001114\n",
      "00282410 880503 -0.005405 0.002655\n",
      "00282410 880504 -0.008152 -0.000176\n",
      "00282410 880505 -0.010959 -0.001624\n",
      "00282410 880506 -0.019391 0.000376\n",
      "00282410 880509 0.008475 -0.005489\n",
      "00282410 880510 -0.014006 0.000986\n",
      "00282410 880511 -0.019886 -0.012381\n",
      "00282410 880512 -0.002899 0.002235\n",
      "00282410 880513 0.017442 0.005115\n",
      "00282410 880516 0.028571 0.000834\n",
      "00282410 880517 -0.011111 -0.001624\n",
      "00282410 880518 -0.019663 -0.010956\n",
      "00282410 880519 -0.002865 -0.001865\n",
      "00282410 880520 0.005747 0.003239\n",
      "00282410 880523 -0.014286 -0.003542\n",
      "00282410 880524 0.014493 0.0017\n",
      "00282410 880525 0.008571 0.001598\n",
      "00282410 880526 0.031161 0.003151\n",
      "00282410 880527 -0.008242 -0.000359\n",
      "00282410 880531 0.027701 0.006501\n",
      "00790310 880225 -0.020408 0.005164\n",
      "00790310 880226 -0.010417 0.001747\n",
      "00790310 880229 0.010526 0.011278\n",
      "00790310 880301 -0.020833 0.001305\n",
      "00790310 880302 0.053191 0.005652\n",
      "00790310 880303 0 0.002895\n",
      "00790310 880304 -0.020202 0.004586\n",
      "00790310 880307 0.041237 0.00374\n",
      "00790310 880308 0.039604 0.006258\n",
      "00790310 880309 0.009524 0.008291\n",
      "00790310 880310 -0.04717 -0.004363\n",
      "00790310 880311 -0.009901 0.000796\n",
      "00790310 880314 0 0.002721\n",
      "00790310 880315 0.01 0.001341\n",
      "00790310 880316 -0.029703 0.004319\n",
      "00790310 880317 0.010204 0.005612\n",
      "00790310 880318 0.010101 0.003249\n",
      "00790310 880321 -0.03 -0.004265\n",
      "00790310 880322 0.030928 0.00276\n",
      "00790310 880323 -0.02 0.003259\n",
      "00790310 880324 -0.030612 -0.006748\n",
      "00790310 880325 -0.052632 -0.006075\n",
      "00790310 880328 -0.011111 -0.006236\n",
      "00790310 880329 0.022472 0.006625\n",
      "00790310 880330 -0.032967 -0.001708\n",
      "00790310 880331 0 0.007634\n",
      "00790310 880404 0.011364 -0.005177\n",
      "00790310 880405 0.022472 0.002342\n",
      "00790310 880406 0.054945 0.007862\n",
      "00790310 880407 0.041667 0.003649\n",
      "00790310 880408 0.07 0.008284\n",
      "00790310 880411 0.028037 0.000455\n",
      "00790310 880412 -0.009091 0.004093\n",
      "00790310 880413 -0.018349 0.000273\n",
      "00790310 880414 -0.056075 -0.017634\n",
      "00790310 880415 -0.009901 -0.001734\n",
      "00790310 880418 0.03 0.002671\n",
      "00790310 880419 -0.019417 0.004033\n",
      "00790310 880420 -0.009901 -0.004894\n",
      "00790310 880421 0 -0.000031\n",
      "00790310 880422 0.05 0.003857\n",
      "00790310 880425 0.028571 0.002482\n",
      "00790310 880426 0.018519 0.004963\n",
      "00790310 880427 0.036364 0.002056\n",
      "00790310 880428 0.017544 0.001157\n",
      "00790310 880429 -0.008621 0.003796\n",
      "00790310 880502 0 -0.001114\n",
      "00790310 880503 -0.008696 0.002655\n",
      "00790310 880504 0.017544 -0.000176\n",
      "00790310 880505 0 -0.001624\n",
      "00790310 880506 -0.017241 0.000376\n",
      "00790310 880509 -0.04386 -0.005489\n",
      "00790310 880510 0.018349 0.000986\n",
      "00790310 880511 0 -0.012381\n",
      "00790310 880512 0.045045 0.002235\n",
      "00790310 880513 0.034483 0.005115\n",
      "00790310 880516 0 0.000834\n",
      "00790310 880517 -0.016667 -0.001624\n",
      "00790310 880518 -0.033898 -0.010956\n",
      "00790310 880519 0.04386 -0.001865\n",
      "00790310 880520 -0.016807 0.003239\n",
      "00790310 880523 -0.034188 -0.003542\n",
      "00790310 880524 0.026549 0.0017\n",
      "00790310 880525 -0.008621 0.001598\n",
      "00790310 880526 -0.008696 0.003151\n",
      "00790310 880527 0 -0.000359\n",
      "00790310 880531 0.052632 0.006501\n",
      "00811710 880225 -0.036458 0.005164\n",
      "00811710 880226 0.010811 0.001747\n",
      "00811710 880229 0.018717 0.011278\n",
      "00811710 880301 0 0.001305\n",
      "00811710 880302 0.002625 0.005652\n",
      "00811710 880303 0.005236 0.002895\n",
      "00811710 880304 -0.007813 0.004586\n",
      "00811710 880307 0.002625 0.00374\n",
      "00811710 880308 0 0.006258\n",
      "00811710 880309 -0.010471 0.008291\n",
      "00811710 880310 -0.010582 -0.004363\n",
      "00811710 880311 -0.002674 0.000796\n",
      "00811710 880314 -0.008043 0.002721\n",
      "00811710 880315 0 0.001341\n",
      "00811710 880316 0 0.004319\n",
      "00811710 880317 -0.010811 0.005612\n",
      "00811710 880318 -0.008197 0.003249\n",
      "00811710 880321 -0.002755 -0.004265\n",
      "00811710 880322 -0.005525 0.00276\n",
      "00811710 880323 -0.005556 0.003259\n",
      "00811710 880324 -0.013966 -0.006748\n",
      "00811710 880325 -0.002833 -0.006075\n",
      "00811710 880328 -0.017045 -0.006236\n",
      "00811710 880329 0.00578 0.006625\n",
      "00811710 880330 -0.014368 -0.001708\n",
      "00811710 880331 0.023324 0.007634\n",
      "00811710 880404 -0.008547 -0.005177\n",
      "00811710 880405 0.031609 0.002342\n",
      "00811710 880406 -0.011142 0.007862\n",
      "00811710 880407 -0.016901 0.003649\n",
      "00811710 880408 0.014327 0.008284\n",
      "00811710 880411 0.00565 0.000455\n",
      "00811710 880412 0.016854 0.004093\n",
      "00811710 880413 0.002762 0.000273\n",
      "00811710 880414 -0.044077 -0.017634\n",
      "00811710 880415 -0.020173 -0.001734\n",
      "00811710 880418 0.002941 0.002671\n",
      "00811710 880419 -0.005865 0.004033\n",
      "00811710 880420 0.00295 -0.004894\n",
      "00811710 880421 0.002941 -0.000031\n",
      "00811710 880422 0.002933 0.003857\n",
      "00811710 880425 0.013216 0.002482\n",
      "00811710 880426 0.017595 0.004963\n",
      "00811710 880427 -0.014409 0.002056\n",
      "00811710 880428 0.008772 0.001157\n",
      "00811710 880429 -0.026087 0.003796\n",
      "00811710 880502 -0.008929 -0.001114\n",
      "00811710 880503 -0.006006 0.002655\n",
      "00811710 880504 0.003021 -0.000176\n",
      "00811710 880505 -0.003012 -0.001624\n",
      "00811710 880506 -0.018127 0.000376\n",
      "00811710 880509 -0.003077 -0.005489\n",
      "00811710 880510 -0.006173 0.000986\n",
      "00811710 880511 -0.012422 -0.012381\n",
      "00811710 880512 0.009434 0.002235\n",
      "00811710 880513 0.012461 0.005115\n",
      "00811710 880516 0.003077 0.000834\n",
      "00811710 880517 -0.018405 -0.001624\n",
      "00811710 880518 0.003125 -0.010956\n",
      "00811710 880519 0.006231 -0.001865\n",
      "00811710 880520 0.012384 0.003239\n",
      "00811710 880523 -0.003058 -0.003542\n",
      "00811710 880524 0.02454 0.0017\n",
      "00811710 880525 0.008982 0.001598\n",
      "00811710 880526 0 0.003151\n",
      "00811710 880527 0.002967 -0.000359\n",
      "00811710 880531 0.038462 0.006501\n",
      "\n"
     ]
    },
    {
     "ename": "NameError",
     "evalue": "name 'crspdata' is not defined",
     "output_type": "error",
     "traceback": [
      "\u001b[1;31m---------------------------------------------------------------------------\u001b[0m",
      "\u001b[1;31mNameError\u001b[0m                                 Traceback (most recent call last)",
      "\u001b[1;32m<ipython-input-116-b4a93faa3afc>\u001b[0m in \u001b[0;36m<module>\u001b[1;34m()\u001b[0m\n\u001b[0;32m      4\u001b[0m \u001b[0mcapmdata\u001b[0m\u001b[1;33m.\u001b[0m\u001b[0mseek\u001b[0m\u001b[1;33m(\u001b[0m\u001b[1;36m0\u001b[0m\u001b[1;33m,\u001b[0m\u001b[1;36m0\u001b[0m\u001b[1;33m)\u001b[0m\u001b[1;33m\u001b[0m\u001b[0m\n\u001b[0;32m      5\u001b[0m \u001b[0mcopycapmdata\u001b[0m\u001b[1;33m.\u001b[0m\u001b[0mwrite\u001b[0m\u001b[1;33m(\u001b[0m\u001b[0mcapmdata\u001b[0m\u001b[1;33m.\u001b[0m\u001b[0mread\u001b[0m\u001b[1;33m(\u001b[0m\u001b[1;33m)\u001b[0m\u001b[1;33m)\u001b[0m\u001b[1;33m\u001b[0m\u001b[0m\n\u001b[1;32m----> 6\u001b[1;33m \u001b[0mcrspdata\u001b[0m\u001b[1;33m.\u001b[0m\u001b[0mclose\u001b[0m\u001b[1;33m(\u001b[0m\u001b[1;33m)\u001b[0m\u001b[1;33m\u001b[0m\u001b[0m\n\u001b[0m\u001b[0;32m      7\u001b[0m \u001b[0mcopycapmdata\u001b[0m\u001b[1;33m.\u001b[0m\u001b[0mclose\u001b[0m\u001b[1;33m(\u001b[0m\u001b[1;33m)\u001b[0m\u001b[1;33m\u001b[0m\u001b[0m\n\u001b[0;32m      8\u001b[0m \u001b[0mcapmdata\u001b[0m\u001b[1;33m.\u001b[0m\u001b[0mclose\u001b[0m\u001b[1;33m(\u001b[0m\u001b[1;33m)\u001b[0m\u001b[1;33m\u001b[0m\u001b[0m\n",
      "\u001b[1;31mNameError\u001b[0m: name 'crspdata' is not defined"
     ]
    }
   ],
   "source": [
    "capmdata = open(your_local_path+'capm_dem.txt','r')\n",
    "print (\"Content is \", capmdata.read())\n",
    "copycapmdata = open(your_local_path+'capm_dem_copy.txt',\"w\")\n",
    "capmdata.seek(0,0)\n",
    "copycapmdata.write(capmdata.read())\n",
    "crspdata.close()\n",
    "copycapmdata.close()\n",
    "capmdata.close()\n"
   ]
  },
  {
   "cell_type": "markdown",
   "metadata": {},
   "source": [
    "**Functions**\n",
    "\n",
    "+ Functions are <b>reusable piece of software</b>.\n",
    "+ Block of statements that <b>accepts some arguments, perform some functionality, and provides the output</b>.\n",
    "+ Defined using <font color='red'><b>def</b></font> keyword\n",
    "+ Similar to functions in R.\n",
    "+ For example, implement code to perform two way clustering once and can be used again in the same program. \n",
    "+ We will look at functions for a number of features (Fama Mac Beth regression, two way clustering, industry code classification) in subsequent sessions. \n",
    "+ A function can take arguments.\n",
    "+ Arguments are specified within parentheses in function definition separated by commas.\n",
    "+ It is also possible to assign default values to parameters in order to make the program flexible and not behave in an unexpected manner.\n",
    "+ One of the most <b>powerful feature of functions is that it allows you to pass any number of arguments (*argv) and you do not have to worry about specifying the number when writing the function</b>. This feature becomes extremely important when dealing with lists or input data where you do not know number of data observations before hand.\n",
    "+ Scope of variables defined inside a function is <b>local</b> i.e. they cannot be used outside of a function.\n"
   ]
  },
  {
   "cell_type": "code",
   "execution_count": 117,
   "metadata": {},
   "outputs": [
    {
     "name": "stdout",
     "output_type": "stream",
     "text": [
      "Hello World!\n"
     ]
    }
   ],
   "source": [
    "def sayHello():\n",
    "    print('Hello World!') # block belonging to the function\n",
    "# End of function #\n",
    "\n",
    "sayHello()"
   ]
  },
  {
   "cell_type": "code",
   "execution_count": 118,
   "metadata": {},
   "outputs": [
    {
     "name": "stdout",
     "output_type": "stream",
     "text": [
      "4 is maximum\n"
     ]
    }
   ],
   "source": [
    "def printMax(a, b):\n",
    "   if a > b:\n",
    "       print(a, 'is maximum')\n",
    "   elif a == b:\n",
    "       print(a, 'is equal to', b)\n",
    "   else:\n",
    "       print(b, 'is maximum')\n",
    "\n",
    "printMax(3, 4) "
   ]
  },
  {
   "cell_type": "code",
   "execution_count": 119,
   "metadata": {},
   "outputs": [
    {
     "name": "stdout",
     "output_type": "stream",
     "text": [
      "Hello\n",
      "WorldWorldWorldWorldWorld\n"
     ]
    }
   ],
   "source": [
    "def say(message, times = 1): #the argument times will default to 1 if not supplied by caller\n",
    "   print(message * times)\n",
    "\n",
    "say('Hello')\n",
    "say('World', 5)"
   ]
  },
  {
   "cell_type": "code",
   "execution_count": 121,
   "metadata": {},
   "outputs": [
    {
     "name": "stdout",
     "output_type": "stream",
     "text": [
      "a is 3 and b is 7 and c is 10\n",
      "a is 25 and b is 5 and c is 24\n",
      "a is 100 and b is 5 and c is 50\n"
     ]
    }
   ],
   "source": [
    "def func(a, b=5, c=10):\n",
    "   print('a is', a, 'and b is', b, 'and c is', c)\n",
    "func(3, 7)\n",
    "func(25, c=24)\n",
    "func(c=50, a=100) #calling function with named arguments"
   ]
  },
  {
   "cell_type": "code",
   "execution_count": null,
   "metadata": {},
   "outputs": [],
   "source": [
    "x = 50\n",
    "def func(x):\n",
    "   print('x is', x)\n",
    "   x = 2\n",
    "   print('Changed local x to', x)\n",
    "func(x)\n",
    "print('x is still', x)"
   ]
  },
  {
   "cell_type": "markdown",
   "metadata": {},
   "source": [
    "**Modules**\n",
    "\n",
    "+ Functions can be used in the <b>same program</b>. \n",
    "+ If you want to use function (s) in <b>other programs, make use of modules</b>.\n",
    "+ Modules can be imported in other programs and functions contained in those modules can be used.\n",
    "+ Simplest way to create a module is to write a <b>.py file</b> with functions defined in that file.\n",
    "+ Other way is to <b>import</b> using byte-compiled .pyc files. "
   ]
  },
  {
   "cell_type": "code",
   "execution_count": 122,
   "metadata": {},
   "outputs": [
    {
     "name": "stdout",
     "output_type": "stream",
     "text": [
      "25.0\n",
      "15511210043330985984000000\n"
     ]
    }
   ],
   "source": [
    "import math\n",
    "x = -25\n",
    "print(math.fabs(x))\n",
    "print(math.factorial(abs(x)))"
   ]
  },
  {
   "cell_type": "code",
   "execution_count": 124,
   "metadata": {},
   "outputs": [
    {
     "name": "stdout",
     "output_type": "stream",
     "text": [
      "Hi, this is a function of mymodule.\n",
      "None\n",
      "Enter a non negative number: 4\n",
      "24\n"
     ]
    }
   ],
   "source": [
    "import sys\n",
    "sys.path.append(your_local_path)\n",
    "from mymodule import *\n",
    "print(sayhi())\n",
    "\n",
    "\n",
    "numb = input(\"Enter a non negative number: \") #user input also works on notebook\n",
    "num_factorial = factorial(int(numb))"
   ]
  },
  {
   "cell_type": "markdown",
   "metadata": {},
   "source": [
    "** <font color='red'>Warning: This is for people willing to understand a little more advance concept. No worries if you don't understand immediately.</font>** \n",
    "\n",
    "**Python program __main__ concept**\n",
    "\n",
    "+ Source files .py extension, and can be run from command prompt by using python filename.py (optional arguments) command. \n",
    "+ Examine name.py. \n",
    "+ First line imports modules\n",
    "+ Next line defines a main() function. We can specify command line arguments. Command line args are in sys.argv[1], sys.argv[2]\n",
    "+ sys.argv[0] is the script name itself and can be ignored\n",
    "+ name = 'main' starts the program. \n",
    "+ When a Python file is run directly, the special variable \"__name__\" is set to \"__main__\". Therefore, it's common to have the boilerplate if __name__ ==... shown above to call a main() function when the module is run directly, but not when the module is imported by some other module."
   ]
  },
  {
   "cell_type": "code",
   "execution_count": null,
   "metadata": {},
   "outputs": [],
   "source": []
  },
  {
   "cell_type": "code",
   "execution_count": 155,
   "metadata": {},
   "outputs": [
    {
     "name": "stdout",
     "output_type": "stream",
     "text": [
      "C:\\Pythonbasics\n",
      "----------------------Ran fruit.py----------------------\n",
      "I am running from fruit.py & will get printed irrespective from where I am called\n",
      "**Inside function printmyfruitname()**\n",
      "Value of __name__ is: __main__\n",
      "Name of fruit:  Fruit\n",
      "**Completed function printmyfruitname()**\n",
      "We are running fruit.py directly\n",
      "----------------------Ran apple.py----------------------\n",
      "**Inside function printmyfruitname()**\n",
      "Value of __name__ is: fruit\n",
      "Name of fruit:  Apple\n",
      "**Completed function printmyfruitname()**\n",
      "We are running apple.py\n",
      "C:\\Pythonbasics\\folder1\n"
     ]
    }
   ],
   "source": [
    "%cd ./Pythonbasics\n",
    "print(\"----------------------Ran fruit.py----------------------\")\n",
    "file = your_local_path + \"fruit.py\"   # Run fruit.py directly\n",
    "%run $file\n",
    "print(\"----------------------Ran apple.py----------------------\")\n",
    "file = your_local_path + \"apple.py\"   # Import fruit.py and then call it's function\n",
    "%run $file\n",
    "\n",
    "%cd folder1 \n",
    "#folder changed here. so when you run again you have to reset the directory above\n",
    "f1 = open(\"newfile\",'w')"
   ]
  },
  {
   "cell_type": "markdown",
   "metadata": {},
   "source": [
    "** Exception Handling**\n",
    "\n",
    "**Exceptions**\n",
    "\n",
    "+ An exception is an <b>event that interrupts the ordinary sequential processing</b> of a program.\n",
    "+ For example, what if you are going to read a file and the file does not exist? Or what if you accidentally deleted it when the program was running? Similarly, what if your program had some invalid statements? Such situations are handled using exceptions.\n",
    "\n",
    "**Handling Exceptions**\n",
    "\n",
    "+ We can handle exceptions using the <b>try..except</b> statement. \n",
    "+ We basically put our <b>usual statements within the try-block</b> and put all our <b>error handlers in the except-block</b>."
   ]
  },
  {
   "cell_type": "code",
   "execution_count": 158,
   "metadata": {},
   "outputs": [
    {
     "name": "stdout",
     "output_type": "stream",
     "text": [
      "Average =  25.0\n",
      "finally print this\n",
      "ZeroDivisionError: float division by zero\n",
      "finally print this\n",
      "None\n",
      "TypeError: unsupported operand type(s) for +: 'int' and 'str'\n",
      "finally print this\n",
      "None\n"
     ]
    }
   ],
   "source": [
    "def avg( numList ):\n",
    "    \"\"\"Raises TypeError or ZeroDivisionError exceptions.\"\"\"\n",
    "    sum = 0\n",
    "    for v in numList:\n",
    "        sum = sum + v\n",
    "    return float(sum)/len(numList)\n",
    "\n",
    "def avgReport(numList):\n",
    "     try:\n",
    "         m= avg(numList)\n",
    "         print (\"Average = \", m)\n",
    "     except TypeError as ex:\n",
    "         print (\"TypeError:\", ex)\n",
    "     except ZeroDivisionError as ex:\n",
    "         print (\"ZeroDivisionError:\", ex)\n",
    "     except ArithmeticError as ex:\n",
    "         print (\"ArithmetricError\", ex)\n",
    "     finally:\n",
    "         print (\"finally print this\")\n",
    "                    \n",
    "list1 = [10,20,30,40]                      # If used this should run fine\n",
    "list2 = []                                 # If used this is empty, it would throw ZeroDivisionError\n",
    "list3 = [10,20,30,'abc']                   # If used this should throw TypeError \n",
    "list4 = [x,y]\n",
    "\n",
    "avgReport(list1)\n",
    "print (avgReport(list2))\n",
    "print (avgReport(list3))"
   ]
  },
  {
   "cell_type": "markdown",
   "metadata": {},
   "source": [
    "**Try..Finally**\n",
    "\n",
    "+ Suppose you are reading a file in your program. How do you ensure that the file object is closed properly whether or not an exception was raised? This can be done using the finally block.\n",
    "+ This final step will be performed before the try block is finished, either normally or by any exception.\n",
    "+ <b>The finally clause is always executed</b>. \n",
    "+ This includes all three possible cases: <b>if the try block finishes with no exceptions; if an exception is raised and handled; and if an exception is raised but not handled</b>. \n",
    "+ This last case means that every nested try statement with a finally clause will have that finally clause executed.\n",
    "+ Use a finally clause to close files, release locks, close database connections, write final log messages, and other kinds of final operations. \n",
    "+ In the following example, we use the finally clause to write a final log message.\n"
   ]
  },
  {
   "cell_type": "code",
   "execution_count": null,
   "metadata": {},
   "outputs": [],
   "source": [
    "def avgReport( numList ):\n",
    "    try:\n",
    "        print(\"Start avgReport\")\n",
    "        m= avg(numList)\n",
    "        print(\"Average = \" + str(m))\n",
    "    except TypeError as ex:\n",
    "        print(\"TypeError: \"+ str(ex))\n",
    "    except ZeroDivisionError as ex:\n",
    "        print(\"ZeroDivisionError: \" + str(ex))\n",
    "    finally:\n",
    "         print(\"Finished avgReport\")\n",
    "\n",
    "list1 = [10,20,30,40]\n",
    "list2 = []\n",
    "list3 = [10,20,30,'abc']\n",
    "\n",
    "avgReport(list2)\n"
   ]
  },
  {
   "cell_type": "markdown",
   "metadata": {},
   "source": [
    "**Some common built-in exceptions**\n",
    "\n",
    "exception KeyboardInterrupt\n",
    " This is raised when a user hits ctrl-C to send an interrupt signal to the Python interpreter. \n",
    "\n",
    "exception AttributeError\n",
    " Attribute not found in an object.\n",
    "\n",
    "exception EOFError\n",
    " Read beyond end of file.\n",
    "\n",
    "exception FloatingPointError\n",
    " Floating point operation failed.\n",
    "\n",
    "exception IOError\n",
    " I/O operation failed.\n",
    "\n",
    "exception IndexError\n",
    " Sequence index out of range.\n",
    "\n",
    "exception KeyError\n",
    " Mapping key not found.\n",
    "\n",
    "exception TypeError\n",
    " Inappropriate argument type.\n",
    "\n",
    "exception ValueError\n",
    " Inappropriate argument value (of correct type).\n",
    "\n",
    "exception ZeroDivisionError\n",
    " Second argument to a division or modulo operation was zero.\n",
    "\n",
    "exception MemoryError\n",
    " Out of memory.\n",
    "\n",
    "exception RuntimeError\n",
    " Unspecified run-time error.\n",
    "\n",
    "exception SystemError\n",
    " Internal error in the Python interpreter\n",
    "\n",
    "exception ImportError\n",
    " Import can’t find module, or can’t find name in module.\n",
    "\n",
    "exception IndentationError\n",
    " Improper indentation.\n",
    "\n",
    "exception NameError\n",
    " Name not found globally.\n",
    "\n",
    "exception SyntaxError\n",
    " Invalid syntax.\n",
    "\n",
    "exception UnboundLocalError\n",
    " Local name referenced but not bound to a value.\n"
   ]
  }
 ],
 "metadata": {
  "kernelspec": {
   "display_name": "Python 3",
   "language": "python",
   "name": "python3"
  },
  "language_info": {
   "codemirror_mode": {
    "name": "ipython",
    "version": 3
   },
   "file_extension": ".py",
   "mimetype": "text/x-python",
   "name": "python",
   "nbconvert_exporter": "python",
   "pygments_lexer": "ipython3",
   "version": "3.6.3"
  }
 },
 "nbformat": 4,
 "nbformat_minor": 1
}
