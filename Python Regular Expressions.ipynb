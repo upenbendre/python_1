{
 "cells": [
  {
   "cell_type": "code",
   "execution_count": null,
   "metadata": {},
   "outputs": [],
   "source": [
    "import re\n",
    "#Regular expressions are metacharacter expressions that allow us to search and replace a text pattern\n",
    "\n",
    "# A .(dot) indicates searching for anything\n",
    "# To search for a . itself, you should use a \\ i.e. look for \\.\n",
    "# Various metacharacters useful in processing regular expressions are .[{()\\^$|?*+\n",
    "# To search for a \\ also , search for \\\\\n",
    "\n",
    "# Full documentation at https://docs.python.org/2/library/re.html at 7.2.1. Regular Expression Syntax\n",
    "\n",
    "#3 digits in a row followed by, any character, followed by 3 digits, followed by any char, followed by 4 digits.\n",
    "# This will look for any phone number like 234-453-3456, 454_765_2534\n",
    "\\d\\d\\d.\\d\\d\\d.\\d\\d\\d\\d\n",
    "\n",
    "# Phone number with dash or dot only. Use character set in [] with - and . in it only\n",
    "# Inside character set, you don't need to replace \n",
    "\\d\\d\\d[-.]\\d\\d\\d[-.]\\d\\d\\d\\d\n",
    "\n",
    "# Look for numbers starting from 8 or 9, and are 800 or 900 numbers. [charset is a placeholder for one character]\n",
    "[89]00[-.]\\d\\d\\d[-.]\\d\\d\\d\\d\n",
    "\n",
    "[^a-z] #finds everything thats not a lower case letter\n",
    "#^ is a negation search\n",
    "\n",
    "# Quantifiers to match more than one character\n",
    "\\d\\d\\d.\\d\\d\\d.\\d\\d\\d\\d\n",
    "\\d{3}.\\d{3}.\\d{4} # is same as above\n",
    "\n",
    "# * to look for 0 or more characters, + for 1 or more and ? for 0 or 1\n",
    "\n",
    "# Looks for Mr. somename with first character of the name as capital\n",
    "Mr\\.?\\s[A-Z]\\w*\n",
    "\n",
    "# Looking for Mr, Ms, Mrs everything using a group using ()\n",
    "M(r|s|rs)\\.?\\s[A-Z]w*\n",
    "\n",
    "# \\s is to look for space\n",
    "# .? means that you look for a . or nothing. ? is for 0 or 1, i.e. optional\n",
    "\n",
    "#email address regular expression - typical but not ideal\n",
    "[a-zA-Z0-9.-]+@[a-zA-Z-]+\\.(com|edu|net)\n",
    "\n",
    "\n"
   ]
  }
 ],
 "metadata": {
  "kernelspec": {
   "display_name": "Python 3",
   "language": "python",
   "name": "python3"
  },
  "language_info": {
   "codemirror_mode": {
    "name": "ipython",
    "version": 3
   },
   "file_extension": ".py",
   "mimetype": "text/x-python",
   "name": "python",
   "nbconvert_exporter": "python",
   "pygments_lexer": "ipython3",
   "version": "3.6.3"
  }
 },
 "nbformat": 4,
 "nbformat_minor": 2
}
